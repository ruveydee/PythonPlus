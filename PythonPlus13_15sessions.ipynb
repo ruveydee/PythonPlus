{
  "nbformat": 4,
  "nbformat_minor": 0,
  "metadata": {
    "colab": {
      "name": "PythonPlus13-15sessions.ipynb",
      "provenance": [],
      "collapsed_sections": [],
      "authorship_tag": "ABX9TyNi2htzySdT2E2E0+gRlsdP",
      "include_colab_link": true
    },
    "kernelspec": {
      "name": "python3",
      "display_name": "Python 3"
    },
    "language_info": {
      "name": "python"
    }
  },
  "cells": [
    {
      "cell_type": "markdown",
      "metadata": {
        "id": "view-in-github",
        "colab_type": "text"
      },
      "source": [
        "<a href=\"https://colab.research.google.com/github/ruveydee/Python_Plus/blob/main/PythonPlus13_15sessions.ipynb\" target=\"_parent\"><img src=\"https://colab.research.google.com/assets/colab-badge.svg\" alt=\"Open In Colab\"/></a>"
      ]
    },
    {
      "cell_type": "code",
      "execution_count": null,
      "metadata": {
        "id": "mjzqmspsnTMj"
      },
      "outputs": [],
      "source": [
        "#eğer iterable dict ise;\n",
        "\n",
        "user={\"name\": \"rüveyde\",\n",
        "      \"surname\": \"kaygısız\",\n",
        "      \"age\": \"28\"}\n"
      ]
    },
    {
      "cell_type": "code",
      "source": [
        "for key, value in user.items():\n",
        "  print(key, \":\", value)"
      ],
      "metadata": {
        "colab": {
          "base_uri": "https://localhost:8080/"
        },
        "id": "1Q8tJU7BuVV4",
        "outputId": "c336fd18-3a91-4b78-9e3c-204376d43e2c"
      },
      "execution_count": null,
      "outputs": [
        {
          "output_type": "stream",
          "name": "stdout",
          "text": [
            "name : rüveyde\n",
            "surname : kaygısız\n",
            "age : 28\n"
          ]
        }
      ]
    },
    {
      "cell_type": "code",
      "source": [
        "for i in user: #keyleri veriyor dikkat\n",
        "  print(i)"
      ],
      "metadata": {
        "colab": {
          "base_uri": "https://localhost:8080/"
        },
        "id": "Etjh7RwRuo8F",
        "outputId": "91be6373-1122-469d-b6cd-352d548d5dca"
      },
      "execution_count": null,
      "outputs": [
        {
          "output_type": "stream",
          "name": "stdout",
          "text": [
            "name\n",
            "surname\n",
            "age\n"
          ]
        }
      ]
    },
    {
      "cell_type": "code",
      "source": [
        "#for return values \n",
        "\n",
        "for i in user.values():\n",
        "  print(i)"
      ],
      "metadata": {
        "colab": {
          "base_uri": "https://localhost:8080/"
        },
        "id": "P4CmSryruzB_",
        "outputId": "e42d6b20-140e-4e2c-be90-d3b107472a2e"
      },
      "execution_count": null,
      "outputs": [
        {
          "output_type": "stream",
          "name": "stdout",
          "text": [
            "rüveyde\n",
            "kaygısız\n",
            "28\n"
          ]
        }
      ]
    },
    {
      "cell_type": "code",
      "source": [
        "test=[(1,2), (3,4), (5,6)]  #2 elemanlı olduğuniçin i ve j 3 tane olsaydı i, j, k kullanırdık çağırmak için.\n",
        "\n",
        "for i, j in test:\n",
        "  print(i,j)"
      ],
      "metadata": {
        "colab": {
          "base_uri": "https://localhost:8080/"
        },
        "id": "Z7dFPABbvGBv",
        "outputId": "0c9c7947-1694-448e-9ea2-e43bf1e37aad"
      },
      "execution_count": null,
      "outputs": [
        {
          "output_type": "stream",
          "name": "stdout",
          "text": [
            "1 2\n",
            "3 4\n",
            "5 6\n"
          ]
        }
      ]
    },
    {
      "cell_type": "code",
      "source": [
        "#OPERATİON WİTH FOR LOOP"
      ],
      "metadata": {
        "id": "vx7uQjSCvUWc"
      },
      "execution_count": null,
      "outputs": []
    },
    {
      "cell_type": "markdown",
      "source": [
        "TASK:MULTİPLİCATİON TABLE "
      ],
      "metadata": {
        "id": "kk-6WLiOwPtM"
      }
    },
    {
      "cell_type": "code",
      "source": [
        "sayı=int(input(\"Please enter a number between 1 and 10: \"))\n",
        "\n",
        "for i in range(1,11):\n",
        "  print(sayı,\"x\", i ,\"=\", sayı*i ) "
      ],
      "metadata": {
        "colab": {
          "base_uri": "https://localhost:8080/"
        },
        "id": "FJ48Lorlv4qt",
        "outputId": "3ff00232-ecf8-46c0-b813-7db5a8a146fa"
      },
      "execution_count": null,
      "outputs": [
        {
          "output_type": "stream",
          "name": "stdout",
          "text": [
            "Please enter a number between 1 and 10: 5\n",
            "5 x 1 = 5\n",
            "5 x 2 = 10\n",
            "5 x 3 = 15\n",
            "5 x 4 = 20\n",
            "5 x 5 = 25\n",
            "5 x 6 = 30\n",
            "5 x 7 = 35\n",
            "5 x 8 = 40\n",
            "5 x 9 = 45\n",
            "5 x 10 = 50\n"
          ]
        }
      ]
    },
    {
      "cell_type": "code",
      "source": [
        "#hocanın yaptığı f string metodu :\n",
        "sayı=int(input(\"Please enter a number between 1 and 10: \"))\n",
        "\n",
        "for i in range(1,11):\n",
        " print(f\"{sayı} x {i} = {sayı*i}\")"
      ],
      "metadata": {
        "colab": {
          "base_uri": "https://localhost:8080/"
        },
        "id": "wiRgmdRAxKZY",
        "outputId": "ff472bea-fe05-47aa-a8e4-c8f9a46039cf"
      },
      "execution_count": null,
      "outputs": [
        {
          "output_type": "stream",
          "name": "stdout",
          "text": [
            "Please enter a number between 1 and 10: 5\n",
            "5 x 1 = 5\n",
            "5 x 2 = 10\n",
            "5 x 3 = 15\n",
            "5 x 4 = 20\n",
            "5 x 5 = 25\n",
            "5 x 6 = 30\n",
            "5 x 7 = 35\n",
            "5 x 8 = 40\n",
            "5 x 9 = 45\n",
            "5 x 10 = 50\n"
          ]
        }
      ]
    },
    {
      "cell_type": "code",
      "source": [
        "#range(start, stop, step) range bir objedir. onu görünür hale getirmek için * kullanılır.\n",
        "print(range(1,10))"
      ],
      "metadata": {
        "colab": {
          "base_uri": "https://localhost:8080/"
        },
        "id": "ECeZRmqryBaq",
        "outputId": "977722ff-cb85-48e6-feb8-1cd715f8cb60"
      },
      "execution_count": null,
      "outputs": [
        {
          "output_type": "stream",
          "name": "stdout",
          "text": [
            "range(1, 10)\n"
          ]
        }
      ]
    },
    {
      "cell_type": "code",
      "source": [
        "print(*range(1,10))"
      ],
      "metadata": {
        "colab": {
          "base_uri": "https://localhost:8080/"
        },
        "id": "sxJTipicyuvw",
        "outputId": "4a65630a-201a-405a-eb7b-6bbc209447b0"
      },
      "execution_count": null,
      "outputs": [
        {
          "output_type": "stream",
          "name": "stdout",
          "text": [
            "1 2 3 4 5 6 7 8 9\n"
          ]
        }
      ]
    },
    {
      "cell_type": "code",
      "source": [
        "print(*'rüveyde')"
      ],
      "metadata": {
        "colab": {
          "base_uri": "https://localhost:8080/"
        },
        "id": "nB6a8HO-yyNq",
        "outputId": "74db3c52-865b-4756-a5bd-2a82480f2056"
      },
      "execution_count": null,
      "outputs": [
        {
          "output_type": "stream",
          "name": "stdout",
          "text": [
            "r ü v e y d e\n"
          ]
        }
      ]
    },
    {
      "cell_type": "code",
      "source": [
        "#1\n",
        "#22\n",
        "#333\n",
        "#4444 gibi 10 a kadar yazdır."
      ],
      "metadata": {
        "id": "6jVl0rfIy7nE"
      },
      "execution_count": null,
      "outputs": []
    },
    {
      "cell_type": "code",
      "source": [
        "for i in range(10):\n",
        "  print(str(i)*i)"
      ],
      "metadata": {
        "colab": {
          "base_uri": "https://localhost:8080/"
        },
        "id": "t47LsgzFzbm5",
        "outputId": "55826a25-1bea-4f38-e559-4ba09819cfa0"
      },
      "execution_count": null,
      "outputs": [
        {
          "output_type": "stream",
          "name": "stdout",
          "text": [
            "\n",
            "1\n",
            "22\n",
            "333\n",
            "4444\n",
            "55555\n",
            "666666\n",
            "7777777\n",
            "88888888\n",
            "999999999\n"
          ]
        }
      ]
    },
    {
      "cell_type": "code",
      "source": [
        "for i in range(9,0,-1):\n",
        "  print(str(i)*i)"
      ],
      "metadata": {
        "colab": {
          "base_uri": "https://localhost:8080/"
        },
        "id": "wWp7p3NTUJ-p",
        "outputId": "91412646-dbc2-425c-a47a-f0fe41b13dd3"
      },
      "execution_count": null,
      "outputs": [
        {
          "output_type": "stream",
          "name": "stdout",
          "text": [
            "999999999\n",
            "88888888\n",
            "7777777\n",
            "666666\n",
            "55555\n",
            "4444\n",
            "333\n",
            "22\n",
            "1\n"
          ]
        }
      ]
    },
    {
      "cell_type": "code",
      "source": [
        "### ZİP FONKSİYONU ##### karşılıklı elemanları eşleştiriyor."
      ],
      "metadata": {
        "id": "s-qNkw9Az2cW"
      },
      "execution_count": null,
      "outputs": []
    },
    {
      "cell_type": "code",
      "source": [
        "numbers=[1,2,3,4,5]\n",
        "text=[\"one\", \"two\", \"three\", \"four\", \"five\"]\n",
        "zipped=zip(text, numbers)"
      ],
      "metadata": {
        "id": "JcsV5miQ1LHG"
      },
      "execution_count": null,
      "outputs": []
    },
    {
      "cell_type": "code",
      "source": [
        "print(zipped) #object verdi.birşey üretti ama görünmüyor."
      ],
      "metadata": {
        "colab": {
          "base_uri": "https://localhost:8080/"
        },
        "id": "XhEf1avS2elz",
        "outputId": "9304c56c-c472-48a0-c8bd-71fe6ca9a04e"
      },
      "execution_count": null,
      "outputs": [
        {
          "output_type": "stream",
          "name": "stdout",
          "text": [
            "<zip object at 0x7fad7be86eb0>\n"
          ]
        }
      ]
    },
    {
      "cell_type": "code",
      "source": [
        "print(*zipped) # * ile görünür yaptık"
      ],
      "metadata": {
        "colab": {
          "base_uri": "https://localhost:8080/"
        },
        "id": "EZOp9ZhF2k7t",
        "outputId": "d945359c-f616-4182-a8bd-c2e1f1f5d53d"
      },
      "execution_count": null,
      "outputs": [
        {
          "output_type": "stream",
          "name": "stdout",
          "text": [
            "('one', 1) ('two', 2) ('three', 3) ('four', 4) ('five', 5)\n"
          ]
        }
      ]
    },
    {
      "cell_type": "code",
      "source": [
        "list(zipped) #boş liste verdi. zip iterable iterablı ettikten sonra iterate edersek boş verir."
      ],
      "metadata": {
        "colab": {
          "base_uri": "https://localhost:8080/"
        },
        "id": "mfG6xvkC2rzw",
        "outputId": "fa6715e8-6614-49e2-8ffa-2643408710ea"
      },
      "execution_count": null,
      "outputs": [
        {
          "output_type": "execute_result",
          "data": {
            "text/plain": [
              "[]"
            ]
          },
          "metadata": {},
          "execution_count": 24
        }
      ]
    },
    {
      "cell_type": "code",
      "source": [
        "zipped=zip(text, numbers) #tekrar tanımlayıp sonra list yapınca göründü.\n",
        "list(zipped)"
      ],
      "metadata": {
        "colab": {
          "base_uri": "https://localhost:8080/"
        },
        "id": "Wq-GHy2G27IX",
        "outputId": "cfbbc09f-73b7-46f7-bfea-6b82f98b3f51"
      },
      "execution_count": null,
      "outputs": [
        {
          "output_type": "execute_result",
          "data": {
            "text/plain": [
              "[('one', 1), ('two', 2), ('three', 3), ('four', 4), ('five', 5)]"
            ]
          },
          "metadata": {},
          "execution_count": 26
        }
      ]
    },
    {
      "cell_type": "code",
      "source": [
        "#döngülerle de açılabilir.\n",
        "zipped=zip(text, numbers) #tekrar tekrar tanımlamak gerekiyor.\n",
        "for i,j in zipped:\n",
        "  print(i,\":\",j)"
      ],
      "metadata": {
        "colab": {
          "base_uri": "https://localhost:8080/"
        },
        "id": "K2UTgv7L3R7J",
        "outputId": "af187069-886e-4cea-f01c-6b1dcb4a2144"
      },
      "execution_count": null,
      "outputs": [
        {
          "output_type": "stream",
          "name": "stdout",
          "text": [
            "one : 1\n",
            "two : 2\n",
            "three : 3\n",
            "four : 4\n",
            "five : 5\n"
          ]
        }
      ]
    },
    {
      "cell_type": "code",
      "source": [
        "print(*zipped) #boş verdi çünkü içini boşalttık. görmek için tekrar tanımla."
      ],
      "metadata": {
        "colab": {
          "base_uri": "https://localhost:8080/"
        },
        "id": "ns7L_rYO3sZ0",
        "outputId": "ce5c9cdc-d007-4b83-c6a5-964b33aa434b"
      },
      "execution_count": null,
      "outputs": [
        {
          "output_type": "stream",
          "name": "stdout",
          "text": [
            "\n"
          ]
        }
      ]
    },
    {
      "cell_type": "code",
      "source": [
        "zipped=zip(text, numbers) \n",
        "dict(zipped)"
      ],
      "metadata": {
        "colab": {
          "base_uri": "https://localhost:8080/"
        },
        "id": "ZwG-HxvI4GxC",
        "outputId": "ea01950f-0a1a-43e8-b532-97e3711829d3"
      },
      "execution_count": null,
      "outputs": [
        {
          "output_type": "execute_result",
          "data": {
            "text/plain": [
              "{'five': 5, 'four': 4, 'one': 1, 'three': 3, 'two': 2}"
            ]
          },
          "metadata": {},
          "execution_count": 33
        }
      ]
    },
    {
      "cell_type": "markdown",
      "source": [
        "TASK: TEK SAYILARI VE ÇİFT SAYILARI AYRI LİSTELERDE GÖRÜNTÜLE\n"
      ],
      "metadata": {
        "id": "M0nlwogN4w81"
      }
    },
    {
      "cell_type": "code",
      "source": [
        "evens=[]\n",
        "odds=[]\n",
        "for i in range(10):\n",
        "  if i%2==0:\n",
        "    evens.append(i)\n",
        "  else:\n",
        "    odds.append(i)\n",
        "print('evens:',evens)\n",
        "print(\"odds:\", odds)\n",
        "\n"
      ],
      "metadata": {
        "colab": {
          "base_uri": "https://localhost:8080/"
        },
        "id": "Ev98Tf6Y4lzz",
        "outputId": "968e12c2-d576-4db9-d547-cced03539b52"
      },
      "execution_count": null,
      "outputs": [
        {
          "output_type": "stream",
          "name": "stdout",
          "text": [
            "evens: [0, 2, 4, 6, 8]\n",
            "odds: [1, 3, 5, 7, 9]\n"
          ]
        }
      ]
    },
    {
      "cell_type": "markdown",
      "source": [
        "TASK: ÇİFT VE TEK SAYI ADETLERİNİ SAYDIRSIN."
      ],
      "metadata": {
        "id": "Qyuv-PMB6gVA"
      }
    },
    {
      "cell_type": "code",
      "source": [
        "ex_list=[11,22,33,44,55,67,88,98,100]  #listeler hafızada yer kapladığı için counter kulllanılsa daha iyi olur.\n",
        "evens=[]\n",
        "odds=[]\n",
        "for i in ex_list:\n",
        "  if i%2==0:\n",
        "    evens.append(i)\n",
        "  else:\n",
        "    odds.append(i)\n",
        "print(f\"The number of even numbers: {len(evens)}\")\n",
        "print(f\"The number of odd numbers: {len(odds)}\")\n",
        "\n"
      ],
      "metadata": {
        "colab": {
          "base_uri": "https://localhost:8080/"
        },
        "id": "Y7oo8mIm5cxd",
        "outputId": "2fdcc9f3-ff89-42eb-916d-807175f45fe8"
      },
      "execution_count": null,
      "outputs": [
        {
          "output_type": "stream",
          "name": "stdout",
          "text": [
            "The number of even numbers: 5\n",
            "The number of odd numbers: 4\n"
          ]
        }
      ]
    },
    {
      "cell_type": "code",
      "source": [
        "#hocanın çözümü:\n",
        "evens=0\n",
        "odds=0\n",
        "for i in ex_list:\n",
        "  if i%2==0:\n",
        "    evens+=1\n",
        "  else:\n",
        "    odds+=1\n",
        "print(f\"The number of even numbers: {evens}\")\n",
        "print(f\"The number of odd numbers: {odds}\")"
      ],
      "metadata": {
        "colab": {
          "base_uri": "https://localhost:8080/"
        },
        "id": "nVw3XlOE7EBB",
        "outputId": "e468ef9f-b1ef-42b8-bec4-982e3a6b4e1a"
      },
      "execution_count": null,
      "outputs": [
        {
          "output_type": "stream",
          "name": "stdout",
          "text": [
            "The number of even numbers: 5\n",
            "The number of odd numbers: 4\n"
          ]
        }
      ]
    },
    {
      "cell_type": "markdown",
      "source": [
        "TASK:1-74 ARASINDAKİ SAYILARIN TOPLAMININ 2774 OLDUĞUNU FOR İE GÖSTER."
      ],
      "metadata": {
        "id": "aQJ9rNyB87Za"
      }
    },
    {
      "cell_type": "code",
      "source": [
        "sum=0\n",
        "for i in range(1,75):\n",
        "  sum+=i\n",
        "print(sum)\n",
        "  "
      ],
      "metadata": {
        "colab": {
          "base_uri": "https://localhost:8080/"
        },
        "id": "70px3Iiq87RW",
        "outputId": "63dedf17-02d1-415c-8d77-2e7d9ff6cc7a"
      },
      "execution_count": null,
      "outputs": [
        {
          "output_type": "stream",
          "name": "stdout",
          "text": [
            "2775\n"
          ]
        }
      ]
    },
    {
      "cell_type": "markdown",
      "source": [
        "NESTED FOR LOOP "
      ],
      "metadata": {
        "id": "pvxvrnB5-clL"
      }
    },
    {
      "cell_type": "code",
      "source": [
        "name=[\"Ali\",\"Rüveyde\"]\n",
        "mood=[\"happy\", \"sad\"]\n",
        "for i in name:\n",
        "  for j in mood:\n",
        "    print(i, \"is\" , j)"
      ],
      "metadata": {
        "colab": {
          "base_uri": "https://localhost:8080/"
        },
        "id": "AEBDXyG984V5",
        "outputId": "65c98acc-3d34-4742-f945-f8a0e4595d7c"
      },
      "execution_count": null,
      "outputs": [
        {
          "output_type": "stream",
          "name": "stdout",
          "text": [
            "Ali is happy\n",
            "Ali is sad\n",
            "Rüveyde is happy\n",
            "Rüveyde is sad\n"
          ]
        }
      ]
    },
    {
      "cell_type": "code",
      "source": [
        "tuple(range(1,8))\n"
      ],
      "metadata": {
        "colab": {
          "base_uri": "https://localhost:8080/"
        },
        "id": "Zi_MX7hM-yv8",
        "outputId": "2c158e4f-db40-48e2-ce24-b1b8dfc04c63"
      },
      "execution_count": null,
      "outputs": [
        {
          "output_type": "execute_result",
          "data": {
            "text/plain": [
              "(1, 2, 3, 4, 5, 6, 7)"
            ]
          },
          "metadata": {},
          "execution_count": 48
        }
      ]
    },
    {
      "cell_type": "code",
      "source": [
        "mon, tue, wed, thu, fri, sat, sun =tuple(range(1,8)) #unpacking!!!!!!!!!!!!işlemi"
      ],
      "metadata": {
        "id": "w2l-mZLd_VG3"
      },
      "execution_count": null,
      "outputs": []
    },
    {
      "cell_type": "code",
      "source": [
        "mon"
      ],
      "metadata": {
        "colab": {
          "base_uri": "https://localhost:8080/"
        },
        "id": "V1ZBtgfD_jAu",
        "outputId": "d653e77a-0be6-4005-ffb1-6c7285765dd9"
      },
      "execution_count": null,
      "outputs": [
        {
          "output_type": "execute_result",
          "data": {
            "text/plain": [
              "1"
            ]
          },
          "metadata": {},
          "execution_count": 50
        }
      ]
    },
    {
      "cell_type": "code",
      "source": [
        "fri"
      ],
      "metadata": {
        "colab": {
          "base_uri": "https://localhost:8080/"
        },
        "id": "32JsIB-6_lK8",
        "outputId": "98f5e276-fba8-4626-c482-37ec1af7697f"
      },
      "execution_count": null,
      "outputs": [
        {
          "output_type": "execute_result",
          "data": {
            "text/plain": [
              "5"
            ]
          },
          "metadata": {},
          "execution_count": 51
        }
      ]
    },
    {
      "cell_type": "code",
      "source": [
        "mytuple= (\"apple\", \"banana\", \"cherry\")"
      ],
      "metadata": {
        "id": "kEBDmcoF_mYF"
      },
      "execution_count": null,
      "outputs": []
    },
    {
      "cell_type": "code",
      "source": [
        "green, yellow, red = mytuple #atama yaptık"
      ],
      "metadata": {
        "id": "O3FauuyX_y9I"
      },
      "execution_count": null,
      "outputs": []
    },
    {
      "cell_type": "code",
      "source": [
        "[1,2,3] + [\"ali\", \"veli\"] #listelerde toplama işlemi yapılabiliyor."
      ],
      "metadata": {
        "colab": {
          "base_uri": "https://localhost:8080/"
        },
        "id": "9RI6EeSi_3K1",
        "outputId": "d1d11e9b-05db-4e37-bec6-ba6415e7267a"
      },
      "execution_count": null,
      "outputs": [
        {
          "output_type": "execute_result",
          "data": {
            "text/plain": [
              "[1, 2, 3, 'ali', 'veli']"
            ]
          },
          "metadata": {},
          "execution_count": 54
        }
      ]
    },
    {
      "cell_type": "code",
      "source": [
        "a,b=(10,20,30,40) #atama yapılamaz ama yer tutucu(_) ile atama yapılabilir."
      ],
      "metadata": {
        "id": "4glmkxkSACCs"
      },
      "execution_count": null,
      "outputs": []
    },
    {
      "cell_type": "code",
      "source": [
        "a, _, b, _ =(10,20,30,40)"
      ],
      "metadata": {
        "id": "zDQ8rKP6AMjA"
      },
      "execution_count": null,
      "outputs": []
    },
    {
      "cell_type": "code",
      "source": [
        "a"
      ],
      "metadata": {
        "colab": {
          "base_uri": "https://localhost:8080/"
        },
        "id": "zD2agEhTAfLj",
        "outputId": "cb0aa19c-6af4-4bcd-f902-33f705bfe5f0"
      },
      "execution_count": null,
      "outputs": [
        {
          "output_type": "execute_result",
          "data": {
            "text/plain": [
              "10"
            ]
          },
          "metadata": {},
          "execution_count": 56
        }
      ]
    },
    {
      "cell_type": "code",
      "source": [
        "b"
      ],
      "metadata": {
        "colab": {
          "base_uri": "https://localhost:8080/"
        },
        "id": "qScFvbUYAf3S",
        "outputId": "d22c522b-bc02-47db-e26e-48a23aa22e06"
      },
      "execution_count": null,
      "outputs": [
        {
          "output_type": "execute_result",
          "data": {
            "text/plain": [
              "30"
            ]
          },
          "metadata": {},
          "execution_count": 57
        }
      ]
    },
    {
      "cell_type": "code",
      "source": [
        "x, y, z=(11,22,33,44,55) #atama yapılamaz "
      ],
      "metadata": {
        "id": "Sue8SwJSAgvZ"
      },
      "execution_count": null,
      "outputs": []
    },
    {
      "cell_type": "code",
      "source": [
        "x, y, *z=(11, 22, 33, 44, 55) "
      ],
      "metadata": {
        "id": "8zDdNwZrA1TE"
      },
      "execution_count": null,
      "outputs": []
    },
    {
      "cell_type": "code",
      "source": [
        "x"
      ],
      "metadata": {
        "colab": {
          "base_uri": "https://localhost:8080/"
        },
        "id": "DmjbkxXoA5C6",
        "outputId": "db5c60f1-cf1d-4226-ae75-0be7bfb81694"
      },
      "execution_count": null,
      "outputs": [
        {
          "output_type": "execute_result",
          "data": {
            "text/plain": [
              "11"
            ]
          },
          "metadata": {},
          "execution_count": 59
        }
      ]
    },
    {
      "cell_type": "code",
      "source": [
        "y"
      ],
      "metadata": {
        "colab": {
          "base_uri": "https://localhost:8080/"
        },
        "id": "y2zQssKjA54B",
        "outputId": "757ea363-f8b0-45ad-8665-f9493826aedb"
      },
      "execution_count": null,
      "outputs": [
        {
          "output_type": "execute_result",
          "data": {
            "text/plain": [
              "22"
            ]
          },
          "metadata": {},
          "execution_count": 60
        }
      ]
    },
    {
      "cell_type": "code",
      "source": [
        "x, y, *_=(11, 22, 33, 44, 55) #z de olmasın hafıza yer almasın dersek _ kullan."
      ],
      "metadata": {
        "id": "9CUTGlc1A6tk"
      },
      "execution_count": null,
      "outputs": []
    },
    {
      "cell_type": "code",
      "source": [
        "x"
      ],
      "metadata": {
        "colab": {
          "base_uri": "https://localhost:8080/"
        },
        "id": "4n-LZwpBA91u",
        "outputId": "ffa53cc1-a00e-40b4-e700-616ed729d5a6"
      },
      "execution_count": null,
      "outputs": [
        {
          "output_type": "execute_result",
          "data": {
            "text/plain": [
              "11"
            ]
          },
          "metadata": {},
          "execution_count": 62
        }
      ]
    },
    {
      "cell_type": "code",
      "source": [
        "x, y, *z, t=(11, 22, 33, 44, 55, 66, 77)  #hafızada yer kaplamamsı için z nin önüne * koyarak çoklu elemana eşledik.en soan t yi atadı."
      ],
      "metadata": {
        "id": "eSd2bo75A-bw"
      },
      "execution_count": null,
      "outputs": []
    },
    {
      "cell_type": "code",
      "source": [
        "t"
      ],
      "metadata": {
        "colab": {
          "base_uri": "https://localhost:8080/"
        },
        "id": "zlZNxB_3BJvx",
        "outputId": "f62dc17d-2799-41db-8660-a58072099ddc"
      },
      "execution_count": null,
      "outputs": [
        {
          "output_type": "execute_result",
          "data": {
            "text/plain": [
              "77"
            ]
          },
          "metadata": {},
          "execution_count": 64
        }
      ]
    },
    {
      "cell_type": "markdown",
      "source": [
        "SESSİONS14"
      ],
      "metadata": {
        "id": "wluk0g4jBm09"
      }
    },
    {
      "cell_type": "markdown",
      "source": [
        "List Comprehension \n",
        "Create Generotor with Tuple Compherrhension"
      ],
      "metadata": {
        "id": "knq2qk9uUzKG"
      }
    },
    {
      "cell_type": "code",
      "source": [
        "sayılar=[]\n",
        "\n",
        "for i in range(5):\n",
        "  sayılar.append(i)\n",
        "sayılar"
      ],
      "metadata": {
        "colab": {
          "base_uri": "https://localhost:8080/"
        },
        "id": "0v0dGUFDVgum",
        "outputId": "8f1fe050-80d0-40a8-f93d-8d157a397ad4"
      },
      "execution_count": null,
      "outputs": [
        {
          "output_type": "execute_result",
          "data": {
            "text/plain": [
              "[0, 1, 2, 3, 4]"
            ]
          },
          "metadata": {},
          "execution_count": 67
        }
      ]
    },
    {
      "cell_type": "code",
      "source": [
        "# [expression for item in iterable]\n",
        "\n",
        "[i for i in range(5) ]"
      ],
      "metadata": {
        "colab": {
          "base_uri": "https://localhost:8080/"
        },
        "id": "Zf5agz7AV_OA",
        "outputId": "eea7615c-2a11-4e92-d7de-47dc71d34a29"
      },
      "execution_count": null,
      "outputs": [
        {
          "output_type": "execute_result",
          "data": {
            "text/plain": [
              "[0, 1, 2, 3, 4]"
            ]
          },
          "metadata": {},
          "execution_count": 70
        }
      ]
    },
    {
      "cell_type": "code",
      "source": [
        "[i*i for i in range(10) ]"
      ],
      "metadata": {
        "colab": {
          "base_uri": "https://localhost:8080/"
        },
        "id": "x3jNBhiNWbud",
        "outputId": "985b092c-52b1-44f0-9252-c74f0f56b35a"
      },
      "execution_count": null,
      "outputs": [
        {
          "output_type": "execute_result",
          "data": {
            "text/plain": [
              "[0, 1, 4, 9, 16, 25, 36, 49, 64, 81]"
            ]
          },
          "metadata": {},
          "execution_count": 72
        }
      ]
    },
    {
      "cell_type": "code",
      "source": [
        "if  condition :\n",
        "  execute_body1\n",
        "else:\n",
        "  excute_body2\n",
        "\n",
        "#yada : \n",
        "\n",
        "execute_body1 if condition else execute_body2"
      ],
      "metadata": {
        "id": "QXGVJAbJWr3L"
      },
      "execution_count": null,
      "outputs": []
    },
    {
      "cell_type": "code",
      "source": [
        "a=2\n",
        "b=3\n",
        "if a>b :\n",
        "  print(\"a b den büyüktür.\")\n",
        "else:\n",
        "  print(\"a b den küçüktür.\")\n",
        "  \n",
        "   \n"
      ],
      "metadata": {
        "colab": {
          "base_uri": "https://localhost:8080/"
        },
        "id": "eMrCzgPkXvV5",
        "outputId": "f109eb2e-de32-4921-a533-b99274dc5f75"
      },
      "execution_count": null,
      "outputs": [
        {
          "output_type": "stream",
          "name": "stdout",
          "text": [
            "a b den küçüktür.\n"
          ]
        }
      ]
    },
    {
      "cell_type": "code",
      "source": [
        "\"a b den büyüktür.\" if a>b else \"b, a den büyüktür.\""
      ],
      "metadata": {
        "colab": {
          "base_uri": "https://localhost:8080/",
          "height": 35
        },
        "id": "_k8TwTYpYInZ",
        "outputId": "c5f5f4d8-af16-4726-f9f1-6a18d122b56d"
      },
      "execution_count": null,
      "outputs": [
        {
          "output_type": "execute_result",
          "data": {
            "text/plain": [
              "'b, a den büyüktür.'"
            ],
            "application/vnd.google.colaboratory.intrinsic+json": {
              "type": "string"
            }
          },
          "metadata": {},
          "execution_count": 74
        }
      ]
    },
    {
      "cell_type": "code",
      "source": [
        "c=10\n",
        "acı=60\n",
        "alan=((3**(1/2))/4)*c**2 if acı==60 else \"bu bir eşkenear üçgen değildir.\"\n",
        "alan"
      ],
      "metadata": {
        "colab": {
          "base_uri": "https://localhost:8080/"
        },
        "id": "FA7IxKoYYYqM",
        "outputId": "c6bd300b-dd87-495b-ac5f-e1144e1c7d02"
      },
      "execution_count": null,
      "outputs": [
        {
          "output_type": "execute_result",
          "data": {
            "text/plain": [
              "43.30127018922193"
            ]
          },
          "metadata": {},
          "execution_count": 77
        }
      ]
    },
    {
      "cell_type": "code",
      "source": [
        "a=2\n",
        "b=1\n",
        "\n",
        "z= a if a<b else b"
      ],
      "metadata": {
        "id": "gagsMEbIY5qt"
      },
      "execution_count": null,
      "outputs": []
    },
    {
      "cell_type": "code",
      "source": [
        "z=3+ a if a<b else b\n",
        "z"
      ],
      "metadata": {
        "colab": {
          "base_uri": "https://localhost:8080/"
        },
        "id": "fEsVv_FVZcda",
        "outputId": "9c8dd0f9-cc97-409d-fac5-27fc869a9b0e"
      },
      "execution_count": null,
      "outputs": [
        {
          "output_type": "execute_result",
          "data": {
            "text/plain": [
              "1"
            ]
          },
          "metadata": {},
          "execution_count": 80
        }
      ]
    },
    {
      "cell_type": "code",
      "source": [
        "z=3+ (a if a<b else b)\n",
        "z"
      ],
      "metadata": {
        "colab": {
          "base_uri": "https://localhost:8080/"
        },
        "id": "cpgaJ1vBZop5",
        "outputId": "761acf95-1d14-47de-fe26-2a02b9ae70dd"
      },
      "execution_count": null,
      "outputs": [
        {
          "output_type": "execute_result",
          "data": {
            "text/plain": [
              "4"
            ]
          },
          "metadata": {},
          "execution_count": 82
        }
      ]
    },
    {
      "cell_type": "code",
      "source": [
        "my_list=[1,2,3,4,5,6]"
      ],
      "metadata": {
        "id": "2foqJFwqZvRx"
      },
      "execution_count": null,
      "outputs": []
    },
    {
      "cell_type": "code",
      "source": [
        "new_list=[]\n",
        "for i in my_list:\n",
        "  if i % 2:\n",
        "    new_list.append(i**2)\n",
        "print(new_list)                #tek sayıalr 2 ile bölümünden kalan 1 verecek boll(1)=True o halde şart sağlandı.tekelri yazdırabilirsin."
      ],
      "metadata": {
        "colab": {
          "base_uri": "https://localhost:8080/"
        },
        "id": "BN9N65V5Z4Dn",
        "outputId": "d99f5bea-1728-445f-e240-68637f487576"
      },
      "execution_count": null,
      "outputs": [
        {
          "output_type": "stream",
          "name": "stdout",
          "text": [
            "[1, 9, 25]\n"
          ]
        }
      ]
    },
    {
      "cell_type": "code",
      "source": [
        "[i*i for i in my_list]"
      ],
      "metadata": {
        "colab": {
          "base_uri": "https://localhost:8080/"
        },
        "id": "FsUy9Fy6aupT",
        "outputId": "40b89271-7fcf-4347-b044-fe6a48485fce"
      },
      "execution_count": null,
      "outputs": [
        {
          "output_type": "execute_result",
          "data": {
            "text/plain": [
              "[1, 4, 9, 16, 25, 36]"
            ]
          },
          "metadata": {},
          "execution_count": 87
        }
      ]
    },
    {
      "cell_type": "code",
      "source": [
        "[i**2 for i in my_list if i%2]"
      ],
      "metadata": {
        "colab": {
          "base_uri": "https://localhost:8080/"
        },
        "id": "TkkM6i-fa3LT",
        "outputId": "0da5a3f3-0d12-4552-fb8d-047ab75fe814"
      },
      "execution_count": null,
      "outputs": [
        {
          "output_type": "execute_result",
          "data": {
            "text/plain": [
              "[1, 9, 25]"
            ]
          },
          "metadata": {},
          "execution_count": 88
        }
      ]
    },
    {
      "cell_type": "markdown",
      "source": [
        "PYTHON PLUS \n",
        "*FUNCTİONS\n",
        "*MOLDULES&PACKAGES\n",
        "*WORKİNG WİTH FİLES \n",
        "*ERROS&EXCEPTİONS HANDLİNG \n",
        "\n",
        "\n"
      ],
      "metadata": {
        "id": "qBp3xpULblzI"
      }
    },
    {
      "cell_type": "code",
      "source": [
        "def multiply(a, b):\n",
        "  return a*b"
      ],
      "metadata": {
        "id": "nYWFl37Ca_D8"
      },
      "execution_count": null,
      "outputs": []
    },
    {
      "cell_type": "code",
      "source": [
        "multiply(3, 5)"
      ],
      "metadata": {
        "colab": {
          "base_uri": "https://localhost:8080/"
        },
        "id": "xv1ewGSdfGzW",
        "outputId": "3a766603-bc0e-44c0-cc60-17898cacadf2"
      },
      "execution_count": null,
      "outputs": [
        {
          "output_type": "execute_result",
          "data": {
            "text/plain": [
              "15"
            ]
          },
          "metadata": {},
          "execution_count": 4
        }
      ]
    },
    {
      "cell_type": "markdown",
      "source": [
        "BUİLT-İN FUNCTİONS"
      ],
      "metadata": {
        "id": "i44WTSjshAb3"
      }
    },
    {
      "cell_type": "code",
      "source": [
        "(i**2 for i in range(6)) #generate etti ama göremiyoruz "
      ],
      "metadata": {
        "colab": {
          "base_uri": "https://localhost:8080/"
        },
        "id": "K_dmPFgQgwU8",
        "outputId": "187bc461-30a0-4817-d11f-e7ab433427d4"
      },
      "execution_count": null,
      "outputs": [
        {
          "output_type": "execute_result",
          "data": {
            "text/plain": [
              "<generator object <genexpr> at 0x7f6545c118d0>"
            ]
          },
          "metadata": {},
          "execution_count": 5
        }
      ]
    },
    {
      "cell_type": "code",
      "source": [
        "generator=(i**2 for i in range(6))\n"
      ],
      "metadata": {
        "id": "eocfvVQalvTW"
      },
      "execution_count": null,
      "outputs": []
    },
    {
      "cell_type": "code",
      "source": [
        "list(generator)"
      ],
      "metadata": {
        "colab": {
          "base_uri": "https://localhost:8080/"
        },
        "id": "uX7Bs9epl33p",
        "outputId": "790d9245-ffa2-4ae4-fc97-543186f0900a"
      },
      "execution_count": null,
      "outputs": [
        {
          "output_type": "execute_result",
          "data": {
            "text/plain": [
              "[0, 1, 4, 9, 16, 25]"
            ]
          },
          "metadata": {},
          "execution_count": 7
        }
      ]
    },
    {
      "cell_type": "code",
      "source": [
        "print(*generator) #generator içi boşaldı bu yüzden boş küme tekrar tanımlama gerek."
      ],
      "metadata": {
        "colab": {
          "base_uri": "https://localhost:8080/"
        },
        "id": "UUeM4taAl56O",
        "outputId": "f8a58bea-f285-49a5-e3a8-417d8dec6a09"
      },
      "execution_count": null,
      "outputs": [
        {
          "output_type": "stream",
          "name": "stdout",
          "text": [
            "\n"
          ]
        }
      ]
    },
    {
      "cell_type": "code",
      "source": [
        "generator=(i**2 for i in range(6))\n",
        "\n",
        "for i in generator:\n",
        "  print(i)"
      ],
      "metadata": {
        "colab": {
          "base_uri": "https://localhost:8080/"
        },
        "id": "mnfo0-fql8ug",
        "outputId": "b90287f4-effa-48b1-b612-c20a642a764b"
      },
      "execution_count": null,
      "outputs": [
        {
          "output_type": "stream",
          "name": "stdout",
          "text": [
            "0\n",
            "1\n",
            "4\n",
            "9\n",
            "16\n",
            "25\n"
          ]
        }
      ]
    },
    {
      "cell_type": "code",
      "source": [
        "generator=(i**2 for i in range(6))\n",
        "generator"
      ],
      "metadata": {
        "colab": {
          "base_uri": "https://localhost:8080/"
        },
        "id": "wcqWNNzcmgSE",
        "outputId": "d0c29244-9770-48a4-aa63-5714bd88309f"
      },
      "execution_count": null,
      "outputs": [
        {
          "output_type": "execute_result",
          "data": {
            "text/plain": [
              "<generator object <genexpr> at 0x7f6545c11950>"
            ]
          },
          "metadata": {},
          "execution_count": 10
        }
      ]
    },
    {
      "cell_type": "code",
      "source": [
        "print(next(generator)) #next fonksiyonu ile generator ün elemanlarını boşaltttık"
      ],
      "metadata": {
        "colab": {
          "base_uri": "https://localhost:8080/"
        },
        "id": "ojvzJj0zmlT6",
        "outputId": "d0c1d9bd-935f-4088-dbe7-85eb42d675a6"
      },
      "execution_count": null,
      "outputs": [
        {
          "output_type": "stream",
          "name": "stdout",
          "text": [
            "0\n"
          ]
        }
      ]
    },
    {
      "cell_type": "code",
      "source": [
        "print(next(generator))"
      ],
      "metadata": {
        "colab": {
          "base_uri": "https://localhost:8080/"
        },
        "id": "kOQG0cxtn-v5",
        "outputId": "c6f545c5-9737-467e-89df-07fde163d483"
      },
      "execution_count": null,
      "outputs": [
        {
          "output_type": "stream",
          "name": "stdout",
          "text": [
            "1\n"
          ]
        }
      ]
    },
    {
      "cell_type": "code",
      "source": [
        "print(next(generator))"
      ],
      "metadata": {
        "colab": {
          "base_uri": "https://localhost:8080/"
        },
        "id": "zocCB4J3oAsv",
        "outputId": "52ac5a53-c830-4f52-fbc1-a8635f03f736"
      },
      "execution_count": null,
      "outputs": [
        {
          "output_type": "stream",
          "name": "stdout",
          "text": [
            "4\n"
          ]
        }
      ]
    }
  ]
}