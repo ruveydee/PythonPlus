{
  "nbformat": 4,
  "nbformat_minor": 0,
  "metadata": {
    "colab": {
      "name": "pythonPlus16-21session.ipynb",
      "provenance": [],
      "collapsed_sections": [],
      "authorship_tag": "ABX9TyOeqbMSh3nvOcIMPhAWlHUU",
      "include_colab_link": true
    },
    "kernelspec": {
      "name": "python3",
      "display_name": "Python 3"
    },
    "language_info": {
      "name": "python"
    }
  },
  "cells": [
    {
      "cell_type": "markdown",
      "metadata": {
        "id": "view-in-github",
        "colab_type": "text"
      },
      "source": [
        "<a href=\"https://colab.research.google.com/github/ruveydee/Python_Plus/blob/main/pythonPlus16_21session.ipynb\" target=\"_parent\"><img src=\"https://colab.research.google.com/assets/colab-badge.svg\" alt=\"Open In Colab\"/></a>"
      ]
    },
    {
      "cell_type": "markdown",
      "source": [
        "**16.SESSİON**"
      ],
      "metadata": {
        "id": "bA3aQ1MqGwI3"
      }
    },
    {
      "cell_type": "code",
      "source": [
        "def who(first,last): #'first' and 'last' are the paremeters(or variables)\n",
        "    print('your first name :',first)\n",
        "    print('your last name :',last)\n",
        "\n",
        "who('rüveyde', 'kaygısız')  # 'rüveyde' and 'kaygısız' are the arguments\n",
        "print()\n",
        "who(\"ali\",\"kaygısız\")"
      ],
      "metadata": {
        "colab": {
          "base_uri": "https://localhost:8080/"
        },
        "id": "pQPTcpubG6D_",
        "outputId": "a77f66cc-21e7-4492-f9bd-003f59e3895d"
      },
      "execution_count": null,
      "outputs": [
        {
          "output_type": "stream",
          "name": "stdout",
          "text": [
            "your first name : rüveyde\n",
            "your last name : kaygısız\n",
            "\n",
            "your first name : ali\n",
            "your last name : kaygısız\n"
          ]
        }
      ]
    },
    {
      "cell_type": "code",
      "source": [
        "who('ali') # 2 argüman gönderilmeliydi.hata verir. 3se 3 4 se 4 "
      ],
      "metadata": {
        "id": "ToInSNiWG5_B"
      },
      "execution_count": null,
      "outputs": []
    },
    {
      "cell_type": "markdown",
      "source": [
        "**Positional arguments**"
      ],
      "metadata": {
        "id": "7ehUkoHxJwK6"
      }
    },
    {
      "cell_type": "code",
      "source": [
        "def pos_arg(a,b):          #pos.argumanlarda sıra önemli.ilki ilke 2. 2.ye gider.\n",
        "  print(a, \"is the first arg\")\n",
        "  print(b, \"is the secand arg\")\n",
        "pos_arg(3,4)\n",
        "print()\n",
        "pos_arg(4,3)"
      ],
      "metadata": {
        "colab": {
          "base_uri": "https://localhost:8080/"
        },
        "id": "bnMTY_OQG52s",
        "outputId": "bc10fd77-157e-4bf1-e03a-7fb5658d5092"
      },
      "execution_count": null,
      "outputs": [
        {
          "output_type": "stream",
          "name": "stdout",
          "text": [
            "3 is the first arg\n",
            "4 is the secand arg\n",
            "\n",
            "4 is the first arg\n",
            "3 is the secand arg\n"
          ]
        }
      ]
    },
    {
      "cell_type": "markdown",
      "source": [
        "**TASK**\n",
        "a=\"i\"\n",
        "b=\"love\"\n",
        "c=\"you\"\n",
        "texter(c, a, b)"
      ],
      "metadata": {
        "id": "Wo6Gy0LWKnFt"
      }
    },
    {
      "cell_type": "code",
      "source": [
        "a=\"i\"\n",
        "b=\"love\"\n",
        "c=\"you\"\n",
        "\n",
        "def texter(x, y, z): #tanımlarken sıraya dikkat ettik.\n",
        "  print(y, z, x)\n",
        "\n",
        "texter(c, a, b)"
      ],
      "metadata": {
        "colab": {
          "base_uri": "https://localhost:8080/"
        },
        "id": "bfowG0qIG5z1",
        "outputId": "838637d9-406b-421b-8489-3e08b5171022"
      },
      "execution_count": null,
      "outputs": [
        {
          "output_type": "stream",
          "name": "stdout",
          "text": [
            "i love you\n"
          ]
        }
      ]
    },
    {
      "cell_type": "code",
      "source": [
        "def texter(t1, t2, t3): #buda f string metodu kullanılmış hali\n",
        "  print(f\"{t2} {t3} {t1}\")\n",
        "\n",
        "texter(c, a, b)"
      ],
      "metadata": {
        "colab": {
          "base_uri": "https://localhost:8080/"
        },
        "id": "tf7mkoYIG5va",
        "outputId": "ff471fc7-6210-49a5-e326-b4593ed18278"
      },
      "execution_count": null,
      "outputs": [
        {
          "output_type": "stream",
          "name": "stdout",
          "text": [
            "i love you\n"
          ]
        }
      ]
    },
    {
      "cell_type": "code",
      "source": [
        "#......\n",
        "type(print())"
      ],
      "metadata": {
        "colab": {
          "base_uri": "https://localhost:8080/"
        },
        "id": "PBJLmY1cG5tF",
        "outputId": "21d9e787-cea0-4033-ea19-66f3630b6028"
      },
      "execution_count": null,
      "outputs": [
        {
          "output_type": "stream",
          "name": "stdout",
          "text": [
            "\n"
          ]
        },
        {
          "output_type": "execute_result",
          "data": {
            "text/plain": [
              "NoneType"
            ]
          },
          "metadata": {},
          "execution_count": 8
        }
      ]
    },
    {
      "cell_type": "code",
      "source": [
        "#return print(d, e, f) #bu return etmez çünkü print bir değer üretmez.!"
      ],
      "metadata": {
        "id": "hhDBd5FlG5qw"
      },
      "execution_count": null,
      "outputs": []
    },
    {
      "cell_type": "code",
      "source": [
        "print([1,2,3])"
      ],
      "metadata": {
        "colab": {
          "base_uri": "https://localhost:8080/"
        },
        "id": "zyvAawt0G5oX",
        "outputId": "c652df74-68cc-44e4-8d16-307d2d9eddd4"
      },
      "execution_count": null,
      "outputs": [
        {
          "output_type": "stream",
          "name": "stdout",
          "text": [
            "[1, 2, 3]\n"
          ]
        }
      ]
    },
    {
      "cell_type": "code",
      "source": [
        "#len(print([1,2,3])) #hata verir. çünkü print([1,2,3]) bir değer değildir."
      ],
      "metadata": {
        "id": "1p2r77cqG5li"
      },
      "execution_count": null,
      "outputs": []
    },
    {
      "cell_type": "markdown",
      "source": [
        "**Keyword Arguments**"
      ],
      "metadata": {
        "id": "I4e1YZ6ANQJd"
      }
    },
    {
      "cell_type": "code",
      "source": [
        "#kywargs=values #atama yaparsak keyword olur yapmazsak positional.\n",
        "\n",
        "def who(first, last) :\n",
        "  print('your first name :',first)\n",
        "  print('your last name :',last)\n",
        "\n",
        "who(first=\"rüveyde\", secand=\"kaygısız\") #kywrargs çağırmak böyle birşey.\n"
      ],
      "metadata": {
        "id": "QcoHVUrcG5X-"
      },
      "execution_count": null,
      "outputs": []
    },
    {
      "cell_type": "markdown",
      "source": [
        "**TASK**"
      ],
      "metadata": {
        "id": "FwrPuFKBOOVn"
      }
    },
    {
      "cell_type": "code",
      "source": [
        "def texter(t1, t2, t3): \n",
        "  print(f\"{t2} {t3} {t1}\")\n",
        "\n",
        "texter(t1=\"you\", t2=\"i\", t3=\"love\")"
      ],
      "metadata": {
        "colab": {
          "base_uri": "https://localhost:8080/"
        },
        "id": "0UTGgFuWNBEt",
        "outputId": "a8f6fdf2-b123-408b-901c-c766d9fb7e33"
      },
      "execution_count": null,
      "outputs": [
        {
          "output_type": "stream",
          "name": "stdout",
          "text": [
            "i love you\n"
          ]
        }
      ]
    },
    {
      "cell_type": "code",
      "source": [
        "def func(x=\"ali\", y=11): #keywords arguments. x in default değeri ali y nin 11\n",
        "  body\n"
      ],
      "metadata": {
        "id": "WgNf-5U5NBHA"
      },
      "execution_count": null,
      "outputs": []
    },
    {
      "cell_type": "code",
      "source": [
        "def func(x=\"ali\", y=22):\n",
        "  print(x,y, \"yaşındadır.\")\n",
        "\n",
        "func()"
      ],
      "metadata": {
        "colab": {
          "base_uri": "https://localhost:8080/"
        },
        "id": "TPUBXCFcNBJX",
        "outputId": "813996b6-4afb-49b6-b84c-bd1b5f256011"
      },
      "execution_count": null,
      "outputs": [
        {
          "output_type": "stream",
          "name": "stdout",
          "text": [
            "ali 22 yaşındadır.\n"
          ]
        }
      ]
    },
    {
      "cell_type": "code",
      "source": [
        "func(y=33, x=\"ali\") #keywords olduğu için yerleri önmeli değil defaltu değiştirdik."
      ],
      "metadata": {
        "colab": {
          "base_uri": "https://localhost:8080/"
        },
        "id": "_h46m6_RNBLs",
        "outputId": "d70c8d4b-e058-4280-cd32-e46b8b880b55"
      },
      "execution_count": null,
      "outputs": [
        {
          "output_type": "stream",
          "name": "stdout",
          "text": [
            "ali 33 yaşındadır.\n"
          ]
        }
      ]
    },
    {
      "cell_type": "code",
      "source": [
        "func() # default değerine geri döndü"
      ],
      "metadata": {
        "colab": {
          "base_uri": "https://localhost:8080/"
        },
        "id": "3cks_X38NBOT",
        "outputId": "1c92061d-fb0c-442e-902d-6d88f2c19d7c"
      },
      "execution_count": null,
      "outputs": [
        {
          "output_type": "stream",
          "name": "stdout",
          "text": [
            "ali 22 yaşındadır.\n"
          ]
        }
      ]
    },
    {
      "cell_type": "code",
      "source": [
        "func(\"rüveyde\",30) #positional olduğu için sıraya bakıp çıktı verdi"
      ],
      "metadata": {
        "colab": {
          "base_uri": "https://localhost:8080/"
        },
        "id": "7AfUBXi4NBv5",
        "outputId": "6d39053b-a9cc-4fc6-aa21-98a35d20ff3c"
      },
      "execution_count": null,
      "outputs": [
        {
          "output_type": "stream",
          "name": "stdout",
          "text": [
            "rüveyde 30 yaşındadır.\n"
          ]
        }
      ]
    },
    {
      "cell_type": "code",
      "source": [
        "func(\"sadık\") #positional olduu için ilk değere sadık gitti 2. değer default değeri geldi."
      ],
      "metadata": {
        "colab": {
          "base_uri": "https://localhost:8080/"
        },
        "id": "ch73x7gPQU73",
        "outputId": "6b854d11-b7e5-495b-edf3-aa6dbce03956"
      },
      "execution_count": null,
      "outputs": [
        {
          "output_type": "stream",
          "name": "stdout",
          "text": [
            "sadık 22 yaşındadır.\n"
          ]
        }
      ]
    },
    {
      "cell_type": "markdown",
      "source": [
        "**Good Example**"
      ],
      "metadata": {
        "id": "iqCFDnCAQ9vy"
      }
    },
    {
      "cell_type": "code",
      "source": [
        "def parrot (voltage, state='a stiff', action='voom', type='Norwegian Blue'):\n",
        "  print(\"--This parrat wouldn't\" , action, end=' ')\n",
        "  print(\"if you put\", voltage, \"volts through it.\")\n",
        "  print(\"--lovely plumage, the\", type)\n",
        "  print(\"--It's\", state, \"!\")\n"
      ],
      "metadata": {
        "id": "aDbOGu-_QU-L"
      },
      "execution_count": null,
      "outputs": []
    },
    {
      "cell_type": "code",
      "source": [
        "parrot(1000)  #1 positional"
      ],
      "metadata": {
        "colab": {
          "base_uri": "https://localhost:8080/"
        },
        "id": "4mcB00zmQVAg",
        "outputId": "50a3cc3d-16ba-429b-bc71-02d8be1b019b"
      },
      "execution_count": null,
      "outputs": [
        {
          "output_type": "stream",
          "name": "stdout",
          "text": [
            "--This parrat wouldn't voom if you put 1000 volts through it.\n",
            "--lovely plumage, the Norwegian Blue\n",
            "--It's error olu mu !\n"
          ]
        }
      ]
    },
    {
      "cell_type": "code",
      "source": [
        "parrot(voltage=1000) #1 keyword argument"
      ],
      "metadata": {
        "colab": {
          "base_uri": "https://localhost:8080/"
        },
        "id": "jkUseNB5QVC4",
        "outputId": "63134b6b-b84e-4767-91c3-16fef8bdab87"
      },
      "execution_count": null,
      "outputs": [
        {
          "output_type": "stream",
          "name": "stdout",
          "text": [
            "--This parrat wouldn't voom if you put 1000 volts through it.\n",
            "--lovely plumage, the Norwegian Blue\n",
            "--It's a stiff !\n"
          ]
        }
      ]
    },
    {
      "cell_type": "code",
      "source": [
        "parrot(voltage=1000000, action=\"VOOOOM\") #2 keyword arguments"
      ],
      "metadata": {
        "colab": {
          "base_uri": "https://localhost:8080/"
        },
        "id": "DDXy4O2sQVHS",
        "outputId": "8b8ee2ae-adb0-42cc-eb7e-d65ed129a763"
      },
      "execution_count": null,
      "outputs": [
        {
          "output_type": "stream",
          "name": "stdout",
          "text": [
            "--This parrat wouldn't VOOOOM if you put 1000000 volts through it.\n",
            "--lovely plumage, the Norwegian Blue\n",
            "--It's a stiff !\n"
          ]
        }
      ]
    },
    {
      "cell_type": "code",
      "source": [
        "parrot(action='vOOOOOOOM', voltage=1000000) #2 keywords arguments sadece yerleri değişik."
      ],
      "metadata": {
        "colab": {
          "base_uri": "https://localhost:8080/"
        },
        "id": "h51qzyDIQVJo",
        "outputId": "e6002db8-2869-46e5-f8d0-ce8d2acacd1c"
      },
      "execution_count": null,
      "outputs": [
        {
          "output_type": "stream",
          "name": "stdout",
          "text": [
            "--This parrat wouldn't vOOOOOOOM if you put 1000000 volts through it.\n",
            "--lovely plumage, the Norwegian Blue\n",
            "--It's a stiff !\n"
          ]
        }
      ]
    },
    {
      "cell_type": "code",
      "source": [
        "parrot('a million', 'bereft of life', 'jump') #3 positional arg"
      ],
      "metadata": {
        "colab": {
          "base_uri": "https://localhost:8080/"
        },
        "id": "T3WbDTYxNByy",
        "outputId": "c046a04d-edf2-4554-aec2-ea93d652c4ad"
      },
      "execution_count": null,
      "outputs": [
        {
          "output_type": "stream",
          "name": "stdout",
          "text": [
            "--This parrat wouldn't jump if you put a million volts through it.\n",
            "--lovely plumage, the Norwegian Blue\n",
            "--It's bereft of life !\n"
          ]
        }
      ]
    },
    {
      "cell_type": "code",
      "source": [
        "parrot('a thousand', state='pushing up the daisies') #1 positional, 1 keyword."
      ],
      "metadata": {
        "colab": {
          "base_uri": "https://localhost:8080/"
        },
        "id": "6LqAMBc3TOSl",
        "outputId": "cf820d56-9cbb-4f5e-bde5-ec0c5238142f"
      },
      "execution_count": null,
      "outputs": [
        {
          "output_type": "stream",
          "name": "stdout",
          "text": [
            "--This parrat wouldn't voom if you put a thousand volts through it.\n",
            "--lovely plumage, the Norwegian Blue\n",
            "--It's pushing up the daisies !\n"
          ]
        }
      ]
    },
    {
      "cell_type": "code",
      "source": [
        "def argu(a, b=\"dünya\", c, d=\"satürn\"): #önce positional sonra keywords \n",
        "  print(a,b,c,d,sep=\"\\n\")"
      ],
      "metadata": {
        "id": "qAi50yArTOVJ"
      },
      "execution_count": null,
      "outputs": []
    },
    {
      "cell_type": "code",
      "source": [
        "def argu(a,c, b=\"dünya\", d=\"satürn\"): #önce positional sonra keywords \n",
        "  print(a,b,c,d,sep=\"\\n\")"
      ],
      "metadata": {
        "id": "LWsKicy3TOXg"
      },
      "execution_count": null,
      "outputs": []
    },
    {
      "cell_type": "code",
      "source": [
        "argu() #atama yapılmamış değerler var ."
      ],
      "metadata": {
        "id": "OPfaCjO4TOZl"
      },
      "execution_count": null,
      "outputs": []
    },
    {
      "cell_type": "code",
      "source": [
        "argu(\"uranus\", \"jupiter\")"
      ],
      "metadata": {
        "colab": {
          "base_uri": "https://localhost:8080/"
        },
        "id": "zpPnJJiETOb8",
        "outputId": "ceb6ec5a-df46-4314-ceb7-215bdd136937"
      },
      "execution_count": null,
      "outputs": [
        {
          "output_type": "stream",
          "name": "stdout",
          "text": [
            "uranus\n",
            "dünya\n",
            "jupiter\n",
            "satürn\n"
          ]
        }
      ]
    },
    {
      "cell_type": "code",
      "source": [
        "def argu(a,c, b=\"dünya\", d=\"satürn\"): #önce positional sonra keywords \n",
        "  print(a, b, c, d, sep=\"\\n\")"
      ],
      "metadata": {
        "id": "2tMcgJbgTOeB"
      },
      "execution_count": null,
      "outputs": []
    },
    {
      "cell_type": "code",
      "source": [
        "argu(a=\"uranus\", c=\"jupiter\") #positional olarak tanımlanmış olsada keyword olarak atama yapabiliyorum."
      ],
      "metadata": {
        "colab": {
          "base_uri": "https://localhost:8080/"
        },
        "id": "IZi2u7h6TOf4",
        "outputId": "282b1fac-b2a5-4840-d92a-6c166470bae9"
      },
      "execution_count": null,
      "outputs": [
        {
          "output_type": "stream",
          "name": "stdout",
          "text": [
            "uranus\n",
            "dünya\n",
            "jupiter\n",
            "satürn\n"
          ]
        }
      ]
    },
    {
      "cell_type": "code",
      "source": [
        "argu(\"plüto\",\"mars\", c=\"venüs\") #ERROR positional arguments  follow  keyword argument .\n",
        "#c nin iki değeri olduğu için çalışmaz."
      ],
      "metadata": {
        "id": "QIqqChKLTOib"
      },
      "execution_count": null,
      "outputs": []
    },
    {
      "cell_type": "markdown",
      "source": [
        "**Arbitrary Number of Arguments**"
      ],
      "metadata": {
        "id": "42Ta-JVmYajJ"
      }
    },
    {
      "cell_type": "code",
      "source": [
        "#def name(*paremater): \n",
        "#  name(multiple args)\n",
        "\n",
        "#def name(**paremater):\n",
        "# name(multiple kwargs)\n",
        " "
      ],
      "metadata": {
        "id": "bBspsRXdWfxX"
      },
      "execution_count": null,
      "outputs": []
    },
    {
      "cell_type": "code",
      "source": [
        "def fruiterer(*fruit):\n",
        "  print('I want to get :')\n",
        "  for i in fruit: #fruit başındaki yıldızdan dolayı iterable oldu.\n",
        "    print(i, end=' ')\n",
        "fruiterer('orange','banana', 'melon','apple')"
      ],
      "metadata": {
        "colab": {
          "base_uri": "https://localhost:8080/"
        },
        "id": "ClV_nameWfz9",
        "outputId": "6bc1eaa6-10b8-4df3-f4e8-f650b75c1cbf"
      },
      "execution_count": null,
      "outputs": [
        {
          "output_type": "stream",
          "name": "stdout",
          "text": [
            "I want to get :\n",
            "orange banana melon apple "
          ]
        }
      ]
    },
    {
      "cell_type": "code",
      "source": [
        "fruiterer('orange','banana', 'melon','apple')"
      ],
      "metadata": {
        "colab": {
          "base_uri": "https://localhost:8080/"
        },
        "id": "6jLDsKtbWf4X",
        "outputId": "3bdd536f-9066-412d-a491-ff9d03394ec9"
      },
      "execution_count": null,
      "outputs": [
        {
          "output_type": "stream",
          "name": "stdout",
          "text": [
            "I want to get :\n",
            "orange banana melon apple "
          ]
        }
      ]
    },
    {
      "cell_type": "code",
      "source": [
        "def fruiterer(*fruit):\n",
        "  print(type(fruit))\n",
        "fruiterer('orange','banana', 'melon','apple')"
      ],
      "metadata": {
        "colab": {
          "base_uri": "https://localhost:8080/"
        },
        "id": "-5nzeA1aWf69",
        "outputId": "ae87b111-af31-4a42-c819-3a9cca4d89d1"
      },
      "execution_count": null,
      "outputs": [
        {
          "output_type": "stream",
          "name": "stdout",
          "text": [
            "<class 'tuple'>\n"
          ]
        }
      ]
    },
    {
      "cell_type": "code",
      "source": [
        "###sonnnnnnn####"
      ],
      "metadata": {
        "id": "emDjhqXbWgFH"
      },
      "execution_count": null,
      "outputs": []
    },
    {
      "cell_type": "markdown",
      "source": [
        "**17.sessions**"
      ],
      "metadata": {
        "id": "pftgIA4neJsZ"
      }
    },
    {
      "cell_type": "markdown",
      "source": [
        "**TASK**"
      ],
      "metadata": {
        "id": "XNpRXdLAbVBE"
      }
    },
    {
      "cell_type": "code",
      "source": [
        "def slicer(*num): #kaç tane paremetre girirldiğini bilmediğimiz için * koyduk.\n",
        "  evens=[]\n",
        "  odds=[]\n",
        "\n",
        "  for i in num :\n",
        "    if i % 2==0 :\n",
        "      evens.append(i)\n",
        "    else:\n",
        "      odds.append(i)\n",
        "  print(\"even list: \",evens)\n",
        "  print(\"odds list: \",odds)\n",
        "  "
      ],
      "metadata": {
        "id": "uqYJ1W9XWf9k"
      },
      "execution_count": null,
      "outputs": []
    },
    {
      "cell_type": "code",
      "source": [
        "slicer(1,2,3,4,5,6,7,8,9)"
      ],
      "metadata": {
        "colab": {
          "base_uri": "https://localhost:8080/"
        },
        "id": "_4bpmvHeWgAM",
        "outputId": "b3497940-e0d5-441c-81e5-bebacccfffdb"
      },
      "execution_count": null,
      "outputs": [
        {
          "output_type": "stream",
          "name": "stdout",
          "text": [
            "even list:  [2, 4, 6, 8]\n",
            "odds list:  [1, 3, 5, 7, 9]\n"
          ]
        }
      ]
    },
    {
      "cell_type": "code",
      "source": [
        "def slicer(*numbers): \n",
        "  evens = [numbers[1::2]]\n",
        "  odds = [numbers[0::2]]  #slashlamayı tuple a yaptığımız için tuple çıktısı verdi .!!!\n",
        "\n",
        "  print(\"even list:\",evens)\n",
        "  print(\"odds list:\",odds) "
      ],
      "metadata": {
        "id": "hCFF6ALpIwcB"
      },
      "execution_count": null,
      "outputs": []
    },
    {
      "cell_type": "code",
      "source": [
        "slicer(1, 2, 3, 4, 5, 6, 7, 8, 9)  #neyi slashlarsak onun tipini alırız."
      ],
      "metadata": {
        "colab": {
          "base_uri": "https://localhost:8080/"
        },
        "id": "coPUSfguJCJy",
        "outputId": "48cd4a50-098b-4c9d-b99f-0d2a38cc8242"
      },
      "execution_count": null,
      "outputs": [
        {
          "output_type": "stream",
          "name": "stdout",
          "text": [
            "even list: [(2, 4, 6, 8)]\n",
            "odds list: [(1, 3, 5, 7, 9)]\n"
          ]
        }
      ]
    },
    {
      "cell_type": "code",
      "source": [
        "def animals(**kwargs):   #**kywargs dict oluyor.\n",
        "  for key, value in kwargs.items():\n",
        "    print(value, \"are\", key)\n",
        "\n",
        "animals(Carnivores=\"Lions\", Omnivores=\"Bears\", Herbivores=\"Deers\", Nomnivores=\"Human\")"
      ],
      "metadata": {
        "colab": {
          "base_uri": "https://localhost:8080/"
        },
        "id": "DqmnU1waKA_f",
        "outputId": "ffa056ec-f07f-4507-cc8f-4ac2bb8676f5"
      },
      "execution_count": null,
      "outputs": [
        {
          "output_type": "stream",
          "name": "stdout",
          "text": [
            "Lions are Carnivores\n",
            "Bears are Omnivores\n",
            "Deers are Herbivores\n",
            "Human are Nomnivores\n"
          ]
        }
      ]
    },
    {
      "cell_type": "code",
      "source": [
        "def organizer(**people):\n",
        "  names=[]\n",
        "  ages=[]\n",
        "  for key, value in people.items():\n",
        "    names.append(key)\n",
        "    ages.append(value)\n",
        "  print(names, ages, sep=\"\\n\")\n",
        "    \n",
        "organizer(Beth=26, Oscar=41, Justin=18, Frank=33)"
      ],
      "metadata": {
        "colab": {
          "base_uri": "https://localhost:8080/"
        },
        "id": "XD-uPdMKJ_Wd",
        "outputId": "a1cf9dfc-5a0d-468c-b577-cc05af4cdd12"
      },
      "execution_count": null,
      "outputs": [
        {
          "output_type": "stream",
          "name": "stdout",
          "text": [
            "['Beth', 'Oscar', 'Justin', 'Frank']\n",
            "[26, 41, 18, 33]\n"
          ]
        }
      ]
    },
    {
      "cell_type": "code",
      "source": [
        "def organizer(**data):\n",
        "  names =[i for i in data.keys()]\n",
        "  ages=[i for i in data.values()]\n",
        "\n",
        "  print(\"names:\",names)\n",
        "  print(\"ages:\", ages)\n",
        "organizer(Beth=26, Oscar=41, Justin=18, Frank=33)"
      ],
      "metadata": {
        "colab": {
          "base_uri": "https://localhost:8080/"
        },
        "id": "t0NlLzBiM0Aw",
        "outputId": "63a68a2f-9c99-40a6-c943-503a4ec4b682"
      },
      "execution_count": null,
      "outputs": [
        {
          "output_type": "stream",
          "name": "stdout",
          "text": [
            "names: ['Beth', 'Oscar', 'Justin', 'Frank']\n",
            "ages: [26, 41, 18, 33]\n"
          ]
        }
      ]
    },
    {
      "cell_type": "code",
      "source": [
        "def brothers(bro1,bro2,bro3): # bu sefer çağırırken * argumanı ile ne kadar eleman varsa fonksiyonda kullanacak.\n",
        "  print(\"Here are the names of brothers:\")\n",
        "  print(bro1,bro2,bro3)\n",
        "\n",
        "family=[\"Sadık\", \"Vehbi\", \"Üsame\"]\n",
        "brothers(*family)"
      ],
      "metadata": {
        "colab": {
          "base_uri": "https://localhost:8080/"
        },
        "id": "VUn5tUjcP0IK",
        "outputId": "f67c971b-fe71-47dc-bec4-5cca57d8b4a2"
      },
      "execution_count": null,
      "outputs": [
        {
          "output_type": "stream",
          "name": "stdout",
          "text": [
            "Here are the names of brothers:\n",
            "Sadık Vehbi Üsame\n"
          ]
        }
      ]
    },
    {
      "cell_type": "code",
      "source": [
        "cümle=\"ben size ders anlatmak istiyorum. derstlerimi unutuyorum\"\n",
        "\n",
        "def vowel(letter): #vowel diye bir fonksiyon tanımladık şartlı \n",
        "  vowels=\"a i e u o ü ö ı\".split()\n",
        "  if letter.lower() in vowels:\n",
        "    return True\n",
        "  else:\n",
        "    return False\n",
        "  "
      ],
      "metadata": {
        "id": "f_IVSFlAUU9H"
      },
      "execution_count": null,
      "outputs": []
    },
    {
      "cell_type": "code",
      "source": [
        "\"r u v e y d e\".split()"
      ],
      "metadata": {
        "colab": {
          "base_uri": "https://localhost:8080/"
        },
        "id": "HJiq7RzApH8-",
        "outputId": "1bd0f2c0-988f-4371-880d-c9fd396d7f31"
      },
      "execution_count": null,
      "outputs": [
        {
          "output_type": "execute_result",
          "data": {
            "text/plain": [
              "['r', 'u', 'v', 'e', 'y', 'd', 'e']"
            ]
          },
          "metadata": {},
          "execution_count": 9
        }
      ]
    },
    {
      "cell_type": "code",
      "source": [
        "#filter fonksiyonu=filter(function or None, iterable) "
      ],
      "metadata": {
        "id": "ozw-0T3ir27c"
      },
      "execution_count": null,
      "outputs": []
    },
    {
      "cell_type": "code",
      "source": [
        "filter(vowel, cümle) # 3 yöntemle görünür yaparız!! 1-for döngüsüyle 2-(*filter), 3-listeleyerek"
      ],
      "metadata": {
        "colab": {
          "base_uri": "https://localhost:8080/"
        },
        "id": "JlvlO_3tXxA-",
        "outputId": "b63f6fac-7e0f-46c2-bdf4-d3dd43107d7a"
      },
      "execution_count": null,
      "outputs": [
        {
          "output_type": "execute_result",
          "data": {
            "text/plain": [
              "<filter at 0x7fd6947b6a50>"
            ]
          },
          "metadata": {},
          "execution_count": 35
        }
      ]
    },
    {
      "cell_type": "code",
      "source": [
        "filter_vowels=filter(vowel, cümle) #filter(vowel(), cümle ) diye yazmıyoruz () çağırmak demek. Biz paremetre olarak kullandık."
      ],
      "metadata": {
        "id": "uZTJ20spX86t"
      },
      "execution_count": null,
      "outputs": []
    },
    {
      "cell_type": "code",
      "source": [
        "set(list(filter_vowels))"
      ],
      "metadata": {
        "colab": {
          "base_uri": "https://localhost:8080/"
        },
        "id": "vOP1I5PaYIhz",
        "outputId": "3271cf62-cd97-40da-dfdf-8162db6788f2"
      },
      "execution_count": null,
      "outputs": [
        {
          "output_type": "execute_result",
          "data": {
            "text/plain": [
              "{'a', 'e', 'i', 'o', 'u'}"
            ]
          },
          "metadata": {},
          "execution_count": 30
        }
      ]
    },
    {
      "cell_type": "code",
      "source": [
        "print(*filter_vowels)"
      ],
      "metadata": {
        "colab": {
          "base_uri": "https://localhost:8080/"
        },
        "id": "S0uNyD9XYV6s",
        "outputId": "ec4aead5-d63e-48f8-e08e-9168c0d808af"
      },
      "execution_count": null,
      "outputs": [
        {
          "output_type": "stream",
          "name": "stdout",
          "text": [
            "e i e e a a a i i o u e e i i u u u o u\n"
          ]
        }
      ]
    },
    {
      "cell_type": "code",
      "source": [
        "print(*filter(None, cümle)) #None yazıldığında cümlenin tüm truty(dolu stringler) lerini döndürüyor."
      ],
      "metadata": {
        "colab": {
          "base_uri": "https://localhost:8080/"
        },
        "id": "uITUh05tZF-y",
        "outputId": "6b0ece41-6fef-4a34-91bc-6673860eda16"
      },
      "execution_count": null,
      "outputs": [
        {
          "output_type": "stream",
          "name": "stdout",
          "text": [
            "b e n   s i z e   d e r s   a n l a t m a k   i s t i y o r u m .   d e r s t l e r i m i   u n u t u y o r u m\n"
          ]
        }
      ]
    },
    {
      "cell_type": "code",
      "source": [
        "print(*filter(None, \"seviyorum Merkez\")) #none yazdık iterable olanın tüm elemanlarına baktı trutyleri döndürdü."
      ],
      "metadata": {
        "colab": {
          "base_uri": "https://localhost:8080/"
        },
        "id": "Y-INSnVfrGoy",
        "outputId": "01bf9251-b181-44d0-e231-1949d13f695d"
      },
      "execution_count": null,
      "outputs": [
        {
          "output_type": "stream",
          "name": "stdout",
          "text": [
            "s e v i y o r u m   M e r k e z\n"
          ]
        }
      ]
    },
    {
      "cell_type": "code",
      "source": [
        "#map function bak\n",
        "#lambda function"
      ],
      "metadata": {
        "id": "Rs03vsddZpSN"
      },
      "execution_count": null,
      "outputs": []
    },
    {
      "cell_type": "code",
      "source": [
        "listem=[1,2,3,4]\n",
        "def karesi(x):  #fonksiyonu tanımladık.\n",
        "  return x**2 "
      ],
      "metadata": {
        "id": "9y6vmFuKg6UP"
      },
      "execution_count": null,
      "outputs": []
    },
    {
      "cell_type": "code",
      "source": [
        "new_list=[]\n",
        "\n",
        "for i in listem :\n",
        "  new_list.append(karesi(i))\n",
        "print(new_list)"
      ],
      "metadata": {
        "colab": {
          "base_uri": "https://localhost:8080/"
        },
        "id": "TeNnR_UEsOsi",
        "outputId": "86940364-0496-46fa-da6b-c014520c325f"
      },
      "execution_count": null,
      "outputs": [
        {
          "output_type": "stream",
          "name": "stdout",
          "text": [
            "[1, 4, 9, 16]\n"
          ]
        }
      ]
    },
    {
      "cell_type": "code",
      "source": [
        "map(karesi,listem) #görünür değil object verdi"
      ],
      "metadata": {
        "colab": {
          "base_uri": "https://localhost:8080/"
        },
        "id": "RgfIs1-VtBvv",
        "outputId": "2171300e-0fb9-4b6c-edba-edb69dfa6b5c"
      },
      "execution_count": null,
      "outputs": [
        {
          "output_type": "execute_result",
          "data": {
            "text/plain": [
              "<map at 0x7f2fe24ae7d0>"
            ]
          },
          "metadata": {},
          "execution_count": 15
        }
      ]
    },
    {
      "cell_type": "code",
      "source": [
        "list(map(karesi,listem)) #daha kolay bir yol map "
      ],
      "metadata": {
        "colab": {
          "base_uri": "https://localhost:8080/"
        },
        "id": "B2qbwhhytG3l",
        "outputId": "225a5505-8f80-4211-e656-cf27923e80a9"
      },
      "execution_count": null,
      "outputs": [
        {
          "output_type": "execute_result",
          "data": {
            "text/plain": [
              "[1, 4, 9, 16]"
            ]
          },
          "metadata": {},
          "execution_count": 16
        }
      ]
    },
    {
      "cell_type": "code",
      "source": [
        "def karesi(x):  #fonksiyonu tanımladık.ama çıktı vermiyor..lambda gibi aynı satırda\n",
        "  return x**2 "
      ],
      "metadata": {
        "id": "bHr_mzWJw7oJ"
      },
      "execution_count": null,
      "outputs": []
    },
    {
      "cell_type": "code",
      "source": [
        "kare=lambda x: x**2"
      ],
      "metadata": {
        "id": "_6CKP6vThB2g"
      },
      "execution_count": null,
      "outputs": []
    },
    {
      "cell_type": "code",
      "source": [
        "print(kare(5)) #lambda ile karesini aldık.hem tanımladık hem print ile aynı yerde yazdırdık."
      ],
      "metadata": {
        "colab": {
          "base_uri": "https://localhost:8080/"
        },
        "id": "eUQg-2AfhGNJ",
        "outputId": "e176d2b5-a95a-41c4-b22b-168d63aa583a"
      },
      "execution_count": null,
      "outputs": [
        {
          "output_type": "stream",
          "name": "stdout",
          "text": [
            "25\n"
          ]
        }
      ]
    },
    {
      "cell_type": "code",
      "source": [
        "karesi(5) #def ile tanımlaıyp karesini aldık"
      ],
      "metadata": {
        "colab": {
          "base_uri": "https://localhost:8080/"
        },
        "id": "UXoITLirhaZN",
        "outputId": "9a1fb5f7-fce1-4869-9825-a77026def2f4"
      },
      "execution_count": null,
      "outputs": [
        {
          "output_type": "execute_result",
          "data": {
            "text/plain": [
              "25"
            ]
          },
          "metadata": {},
          "execution_count": 43
        }
      ]
    },
    {
      "cell_type": "code",
      "source": [
        "kare(3)"
      ],
      "metadata": {
        "colab": {
          "base_uri": "https://localhost:8080/"
        },
        "id": "uEa0CJJNhfkA",
        "outputId": "b463ffb9-bedc-44fc-e0a2-ff517a939639"
      },
      "execution_count": null,
      "outputs": [
        {
          "output_type": "execute_result",
          "data": {
            "text/plain": [
              "9"
            ]
          },
          "metadata": {},
          "execution_count": 44
        }
      ]
    },
    {
      "cell_type": "code",
      "source": [
        "kare(25)"
      ],
      "metadata": {
        "colab": {
          "base_uri": "https://localhost:8080/"
        },
        "id": "6dSI94-hiAQP",
        "outputId": "87cb3e23-a884-4352-d7db-9b4c4b924be1"
      },
      "execution_count": null,
      "outputs": [
        {
          "output_type": "execute_result",
          "data": {
            "text/plain": [
              "625"
            ]
          },
          "metadata": {},
          "execution_count": 45
        }
      ]
    },
    {
      "cell_type": "code",
      "source": [
        "değişken=lambda x,y:(x+y)/2  #değişkene atayıp da yapabilriz.aslında fonksiyon tanımlamak gibi\n"
      ],
      "metadata": {
        "id": "J36UfCmfiQIe"
      },
      "execution_count": null,
      "outputs": []
    },
    {
      "cell_type": "code",
      "source": [
        "değişken(6,8)"
      ],
      "metadata": {
        "colab": {
          "base_uri": "https://localhost:8080/"
        },
        "id": "ruycbG-3koeF",
        "outputId": "81649628-29c0-4d20-9756-ffd6a3a8d092"
      },
      "execution_count": null,
      "outputs": [
        {
          "output_type": "execute_result",
          "data": {
            "text/plain": [
              "7.0"
            ]
          },
          "metadata": {},
          "execution_count": 53
        }
      ]
    },
    {
      "cell_type": "code",
      "source": [
        "print((lambda x,y:(x+y)/2)(6,8)) #print ile de yapabiliriz."
      ],
      "metadata": {
        "colab": {
          "base_uri": "https://localhost:8080/"
        },
        "id": "RcMTAU2elgiH",
        "outputId": "9b2d1748-7bc2-424b-e21d-1bd6703eba18"
      },
      "execution_count": null,
      "outputs": [
        {
          "output_type": "stream",
          "name": "stdout",
          "text": [
            "7.0\n"
          ]
        }
      ]
    },
    {
      "cell_type": "code",
      "source": [
        "sayı=lambda x: 'odd' if x%2 != 0 else 'even'"
      ],
      "metadata": {
        "id": "xFBXm9S0i-ew"
      },
      "execution_count": null,
      "outputs": []
    },
    {
      "cell_type": "code",
      "source": [
        "sayı(14)"
      ],
      "metadata": {
        "colab": {
          "base_uri": "https://localhost:8080/",
          "height": 35
        },
        "id": "vUG6HH0AkK43",
        "outputId": "232bdda6-b626-441b-c443-802be311c877"
      },
      "execution_count": null,
      "outputs": [
        {
          "output_type": "execute_result",
          "data": {
            "text/plain": [
              "'even'"
            ],
            "application/vnd.google.colaboratory.intrinsic+json": {
              "type": "string"
            }
          },
          "metadata": {},
          "execution_count": 50
        }
      ]
    },
    {
      "cell_type": "code",
      "source": [
        "(lambda x, y : (x + y) / 2)(3,5) #kullanım şekli. birde bölme olduğu. için float geldi."
      ],
      "metadata": {
        "colab": {
          "base_uri": "https://localhost:8080/"
        },
        "id": "7APpyUJ5kc3n",
        "outputId": "1b310cfd-b4ac-46ae-bdc0-2105b06177ff"
      },
      "execution_count": null,
      "outputs": [
        {
          "output_type": "execute_result",
          "data": {
            "text/plain": [
              "4.0"
            ]
          },
          "metadata": {},
          "execution_count": 56
        }
      ]
    },
    {
      "cell_type": "code",
      "source": [
        "ortalama= (lambda x, y : (x + y)/2)\n",
        "ortalama(3,4)"
      ],
      "metadata": {
        "colab": {
          "base_uri": "https://localhost:8080/"
        },
        "id": "kmMAsHaInoGQ",
        "outputId": "08daa7a1-0664-45a5-d111-4d4f81e5046d"
      },
      "execution_count": null,
      "outputs": [
        {
          "output_type": "execute_result",
          "data": {
            "text/plain": [
              "3.5"
            ]
          },
          "metadata": {},
          "execution_count": 69
        }
      ]
    },
    {
      "cell_type": "code",
      "source": [
        "condition=True"
      ],
      "metadata": {
        "id": "SunNBMQJy7ZB"
      },
      "execution_count": null,
      "outputs": []
    },
    {
      "cell_type": "code",
      "source": [
        "\"odd\" if condition else \"even\""
      ],
      "metadata": {
        "colab": {
          "base_uri": "https://localhost:8080/",
          "height": 35
        },
        "id": "CX8GSaNUy7AT",
        "outputId": "33cd17e0-1f2a-46e7-9535-bbace17b4ba7"
      },
      "execution_count": null,
      "outputs": [
        {
          "output_type": "execute_result",
          "data": {
            "text/plain": [
              "'odd'"
            ],
            "application/vnd.google.colaboratory.intrinsic+json": {
              "type": "string"
            }
          },
          "metadata": {},
          "execution_count": 20
        }
      ]
    },
    {
      "cell_type": "code",
      "source": [
        "print((lambda x:x**2)(2)) #lamdanın kullanım şekilleri !!!"
      ],
      "metadata": {
        "colab": {
          "base_uri": "https://localhost:8080/"
        },
        "id": "uJllq25_zoC2",
        "outputId": "3b881322-28e5-4223-ea6e-aa44f71a9330"
      },
      "execution_count": null,
      "outputs": [
        {
          "output_type": "stream",
          "name": "stdout",
          "text": [
            "4\n"
          ]
        }
      ]
    },
    {
      "cell_type": "code",
      "source": [
        "print((lambda x, y:(x+y)/2)(3,5))"
      ],
      "metadata": {
        "colab": {
          "base_uri": "https://localhost:8080/"
        },
        "id": "YKakOpR1z1Eb",
        "outputId": "d01c7cce-4ac6-4a57-b164-a58723ed79ec"
      },
      "execution_count": null,
      "outputs": [
        {
          "output_type": "stream",
          "name": "stdout",
          "text": [
            "4.0\n"
          ]
        }
      ]
    },
    {
      "cell_type": "code",
      "source": [
        "average=(lambda x, y:(x+y)/2)(3,5) #bir değere atayarak çalıştırdık.\n",
        "print(average)"
      ],
      "metadata": {
        "colab": {
          "base_uri": "https://localhost:8080/"
        },
        "id": "cwF-T1mK0BMe",
        "outputId": "8f075f82-3112-43f0-f2e1-6d19bcfd6016"
      },
      "execution_count": null,
      "outputs": [
        {
          "output_type": "stream",
          "name": "stdout",
          "text": [
            "4.0\n"
          ]
        }
      ]
    },
    {
      "cell_type": "code",
      "source": [
        "(lambda x: 'odd' if x%2 != 0 else 'even')(4)"
      ],
      "metadata": {
        "colab": {
          "base_uri": "https://localhost:8080/",
          "height": 35
        },
        "id": "ndFqrEBa0wWK",
        "outputId": "e98bbf16-b11e-4585-810b-bfc4af855d26"
      },
      "execution_count": null,
      "outputs": [
        {
          "output_type": "execute_result",
          "data": {
            "text/plain": [
              "'even'"
            ],
            "application/vnd.google.colaboratory.intrinsic+json": {
              "type": "string"
            }
          },
          "metadata": {},
          "execution_count": 25
        }
      ]
    },
    {
      "cell_type": "code",
      "source": [
        "(lambda x: 'odd' if x%2 != 0 else 'even')(9)"
      ],
      "metadata": {
        "colab": {
          "base_uri": "https://localhost:8080/",
          "height": 35
        },
        "id": "u4cN7e_V01LB",
        "outputId": "1dc0f4e9-9465-41ed-aa2b-62397230fef0"
      },
      "execution_count": null,
      "outputs": [
        {
          "output_type": "execute_result",
          "data": {
            "text/plain": [
              "'odd'"
            ],
            "application/vnd.google.colaboratory.intrinsic+json": {
              "type": "string"
            }
          },
          "metadata": {},
          "execution_count": 26
        }
      ]
    },
    {
      "cell_type": "code",
      "source": [
        "lambda x: 'odd' if x%2 != 0 else 'even' #lamda fonksiyonum oluşmuş demek"
      ],
      "metadata": {
        "colab": {
          "base_uri": "https://localhost:8080/"
        },
        "id": "_8HLlybn1Cud",
        "outputId": "8c55e238-a176-4e8f-ebaf-2c64bb2ccb6e"
      },
      "execution_count": null,
      "outputs": [
        {
          "output_type": "execute_result",
          "data": {
            "text/plain": [
              "<function __main__.<lambda>>"
            ]
          },
          "metadata": {},
          "execution_count": 27
        }
      ]
    },
    {
      "cell_type": "markdown",
      "source": [
        "**TASK**"
      ],
      "metadata": {
        "id": "inWpOes_1QbY"
      }
    },
    {
      "cell_type": "code",
      "source": [
        "(lambda x : x[::-1])(input(\"enter a sentence: \"))"
      ],
      "metadata": {
        "colab": {
          "base_uri": "https://localhost:8080/",
          "height": 53
        },
        "id": "n4DRzz-1oHYn",
        "outputId": "416154f0-7b7d-42ff-bba6-cfb052cd854d"
      },
      "execution_count": null,
      "outputs": [
        {
          "name": "stdout",
          "output_type": "stream",
          "text": [
            "enter a sentence: Clarusway\n"
          ]
        },
        {
          "output_type": "execute_result",
          "data": {
            "text/plain": [
              "'yawsuralC'"
            ],
            "application/vnd.google.colaboratory.intrinsic+json": {
              "type": "string"
            }
          },
          "metadata": {},
          "execution_count": 62
        }
      ]
    },
    {
      "cell_type": "code",
      "source": [
        "(lambda x : x[::-1])([1,2,3,4]) #ne itereabla girersek tersten yazdıracak."
      ],
      "metadata": {
        "colab": {
          "base_uri": "https://localhost:8080/"
        },
        "id": "e9zk6pR51Xh0",
        "outputId": "0a7741e6-4808-4c5d-c709-c5115383e657"
      },
      "execution_count": null,
      "outputs": [
        {
          "output_type": "execute_result",
          "data": {
            "text/plain": [
              "[4, 3, 2, 1]"
            ]
          },
          "metadata": {},
          "execution_count": 28
        }
      ]
    },
    {
      "cell_type": "code",
      "source": [
        "liste=[1,2,3,4]\n",
        "for i in liste:\n",
        "  print(i ,\":\", (lambda x: 'odd' if x%2 != 0 else 'even')(i))"
      ],
      "metadata": {
        "colab": {
          "base_uri": "https://localhost:8080/"
        },
        "id": "XZBW7FWEoz65",
        "outputId": "729f4e4e-7c49-40b4-9e2a-a211dbd08d6f"
      },
      "execution_count": null,
      "outputs": [
        {
          "output_type": "stream",
          "name": "stdout",
          "text": [
            "1 : odd\n",
            "2 : even\n",
            "3 : odd\n",
            "4 : even\n"
          ]
        }
      ]
    },
    {
      "cell_type": "code",
      "source": [
        "iterable=\"clarusway\"\n",
        "\n",
        "reverser=lambda x: x[::-1]"
      ],
      "metadata": {
        "id": "TsbxqZJkrSQZ"
      },
      "execution_count": null,
      "outputs": []
    },
    {
      "cell_type": "code",
      "source": [
        "reverser"
      ],
      "metadata": {
        "colab": {
          "base_uri": "https://localhost:8080/"
        },
        "id": "MUzTRf052LRE",
        "outputId": "839b6a65-237b-4f70-ebef-c3944d88a141"
      },
      "execution_count": null,
      "outputs": [
        {
          "output_type": "execute_result",
          "data": {
            "text/plain": [
              "<function __main__.<lambda>>"
            ]
          },
          "metadata": {},
          "execution_count": 30
        }
      ]
    },
    {
      "cell_type": "code",
      "source": [
        "reverser(iterable)"
      ],
      "metadata": {
        "colab": {
          "base_uri": "https://localhost:8080/",
          "height": 35
        },
        "id": "brIq4LLb2NUn",
        "outputId": "7aad0c09-9a0b-48ed-802d-18ea18c14e2f"
      },
      "execution_count": null,
      "outputs": [
        {
          "output_type": "execute_result",
          "data": {
            "text/plain": [
              "'yawsuralc'"
            ],
            "application/vnd.google.colaboratory.intrinsic+json": {
              "type": "string"
            }
          },
          "metadata": {},
          "execution_count": 31
        }
      ]
    },
    {
      "cell_type": "code",
      "source": [
        "#soooooonnnnn"
      ],
      "metadata": {
        "id": "x1NzS72D2PP8"
      },
      "execution_count": null,
      "outputs": []
    },
    {
      "cell_type": "markdown",
      "source": [
        "**LAMBDA WİTHİN BUİLT-İN MAP() FUNCTİON**"
      ],
      "metadata": {
        "id": "mWnEk2_32g0-"
      }
    },
    {
      "cell_type": "code",
      "source": [
        "#map(function, iterable)\n",
        "kelimeler=[\"ali\",\"ahmet\", \"yunus\"]"
      ],
      "metadata": {
        "id": "ZYNCm3gh2vsK"
      },
      "execution_count": null,
      "outputs": []
    },
    {
      "cell_type": "code",
      "source": [
        "uzunluk=map(len, kelimeler)"
      ],
      "metadata": {
        "id": "_8pyN4gbvEh7"
      },
      "execution_count": null,
      "outputs": []
    },
    {
      "cell_type": "code",
      "source": [
        "uzunluk #object üretti."
      ],
      "metadata": {
        "colab": {
          "base_uri": "https://localhost:8080/"
        },
        "id": "B4XTRGjbvEsk",
        "outputId": "ce20cc57-c621-42c8-96ae-16dc3445dfb1"
      },
      "execution_count": null,
      "outputs": [
        {
          "output_type": "execute_result",
          "data": {
            "text/plain": [
              "<map at 0x7fbaad433990>"
            ]
          },
          "metadata": {},
          "execution_count": 5
        }
      ]
    },
    {
      "cell_type": "code",
      "source": [
        "list(uzunluk) #boşaltığımız için boş çıktı verdi."
      ],
      "metadata": {
        "colab": {
          "base_uri": "https://localhost:8080/"
        },
        "id": "oH7dYNGvvEvq",
        "outputId": "953b66c6-7e2d-4b55-dfa9-edc878ced067"
      },
      "execution_count": null,
      "outputs": [
        {
          "output_type": "execute_result",
          "data": {
            "text/plain": [
              "[]"
            ]
          },
          "metadata": {},
          "execution_count": 9
        }
      ]
    },
    {
      "cell_type": "code",
      "source": [
        "fonksiyonum = lambda x : x**2"
      ],
      "metadata": {
        "id": "O1eVI-DKvhb_"
      },
      "execution_count": null,
      "outputs": []
    },
    {
      "cell_type": "code",
      "source": [
        "iiterable=[1,2,3,4,5]"
      ],
      "metadata": {
        "id": "2wUHEGgew3Ur"
      },
      "execution_count": null,
      "outputs": []
    },
    {
      "cell_type": "code",
      "source": [
        "sonuç = map(fonksiyonum, iiterable)"
      ],
      "metadata": {
        "id": "VgEzDX6MxF1m"
      },
      "execution_count": null,
      "outputs": []
    },
    {
      "cell_type": "code",
      "source": [
        "sonuç2=map(lambda x : x**2, [1,2,3,4,5]) #object üretti"
      ],
      "metadata": {
        "id": "8Ck0oe0PxOfc"
      },
      "execution_count": null,
      "outputs": []
    },
    {
      "cell_type": "code",
      "source": [
        "print(*sonuç2)"
      ],
      "metadata": {
        "colab": {
          "base_uri": "https://localhost:8080/"
        },
        "id": "4reTQ949xoG8",
        "outputId": "f3de9190-f229-4db1-c27d-9fa851b2dcca"
      },
      "execution_count": null,
      "outputs": [
        {
          "output_type": "stream",
          "name": "stdout",
          "text": [
            "1 4 9 16 25\n"
          ]
        }
      ]
    },
    {
      "cell_type": "code",
      "source": [
        "list(sonuç2) #boşalttık"
      ],
      "metadata": {
        "colab": {
          "base_uri": "https://localhost:8080/"
        },
        "id": "-tsHXjx3xwpM",
        "outputId": "094b7e47-98cc-4108-fc28-4e3f4e34e28c"
      },
      "execution_count": null,
      "outputs": [
        {
          "output_type": "execute_result",
          "data": {
            "text/plain": [
              "[]"
            ]
          },
          "metadata": {},
          "execution_count": 18
        }
      ]
    },
    {
      "cell_type": "code",
      "source": [
        "sonuç2=map(lambda x : x**2, [1,2,3,4,5]) #tekrar çalıştırdık"
      ],
      "metadata": {
        "id": "Fv2jk1dQyZX-"
      },
      "execution_count": null,
      "outputs": []
    },
    {
      "cell_type": "code",
      "source": [
        "list(sonuç2) #ve sonuç verdi."
      ],
      "metadata": {
        "colab": {
          "base_uri": "https://localhost:8080/"
        },
        "id": "vBiaIt5mymXL",
        "outputId": "8dccf56a-708a-4a6e-a963-72d7bfb697bf"
      },
      "execution_count": null,
      "outputs": [
        {
          "output_type": "execute_result",
          "data": {
            "text/plain": [
              "[1, 4, 9, 16, 25]"
            ]
          },
          "metadata": {},
          "execution_count": 20
        }
      ]
    },
    {
      "cell_type": "code",
      "source": [
        "def square(x):\n",
        "  return x**2"
      ],
      "metadata": {
        "id": "HIq8Hkwmyo48"
      },
      "execution_count": null,
      "outputs": []
    },
    {
      "cell_type": "code",
      "source": [
        "iterable=[1,2,3,4,5]\n",
        "y=map(square, iterable)\n",
        "print(*y)"
      ],
      "metadata": {
        "colab": {
          "base_uri": "https://localhost:8080/"
        },
        "id": "Hl8j3H--zlQT",
        "outputId": "fac71a1c-d6f1-42bf-c209-b415e5c99d5c"
      },
      "execution_count": null,
      "outputs": [
        {
          "output_type": "stream",
          "name": "stdout",
          "text": [
            "1 4 9 16 25\n"
          ]
        }
      ]
    },
    {
      "cell_type": "code",
      "source": [
        "topla = lambda x,y,z : x + y + z "
      ],
      "metadata": {
        "id": "6aZD1Mx6zvbx"
      },
      "execution_count": null,
      "outputs": []
    },
    {
      "cell_type": "code",
      "source": [
        "topla(\"a\", \"l\", \"i\")"
      ],
      "metadata": {
        "colab": {
          "base_uri": "https://localhost:8080/",
          "height": 35
        },
        "id": "Qpcx8zkW0nAT",
        "outputId": "2a37b35a-0aac-4ae2-d55c-d21c586ea5ba"
      },
      "execution_count": null,
      "outputs": [
        {
          "output_type": "execute_result",
          "data": {
            "text/plain": [
              "'ali'"
            ],
            "application/vnd.google.colaboratory.intrinsic+json": {
              "type": "string"
            }
          },
          "metadata": {},
          "execution_count": 26
        }
      ]
    },
    {
      "cell_type": "code",
      "source": [
        "letters1=['o', 's', 't', 't']\n",
        "letters2=['n', 'i', 'e', 'w']\n",
        "letters3=['e', 'x', 'n', 'o']\n",
        "numbers= map(lambda x,y,z :x+y+z, letters1, letters2, letters3)\n",
        "\n",
        "print(list(numbers))"
      ],
      "metadata": {
        "colab": {
          "base_uri": "https://localhost:8080/"
        },
        "id": "uhfQg10z01UR",
        "outputId": "07bd80e3-cce8-4952-e3a5-2c5e5a573a92"
      },
      "execution_count": null,
      "outputs": [
        {
          "output_type": "stream",
          "name": "stdout",
          "text": [
            "['one', 'six', 'ten', 'two']\n"
          ]
        }
      ]
    },
    {
      "cell_type": "code",
      "source": [
        "nums1=[9,6,7,4]\n",
        "nums2=[3,6,5,8]\n",
        "lambda x,y:(x+y)/2\n",
        "print(list(map(lambda x,y:(x+y)/2, nums1, nums2)))"
      ],
      "metadata": {
        "colab": {
          "base_uri": "https://localhost:8080/"
        },
        "id": "-dXybKq55saq",
        "outputId": "06dfcdd6-1118-4c25-fca3-fe46cd879a7a"
      },
      "execution_count": null,
      "outputs": [
        {
          "output_type": "stream",
          "name": "stdout",
          "text": [
            "[6.0, 6.0, 6.0, 6.0]\n"
          ]
        }
      ]
    },
    {
      "cell_type": "code",
      "source": [
        "words1= [\"you\",\"much\",\"hard\"]\n",
        "words2= [\"i\",\"you\",\"he\"]\n",
        "words3= [\"love\",\"ate\",\"works\"]\n",
        "\n",
        "x=lambda x,y,z : x + ' ' + y + ' ' + z\n",
        "print(list(map(x, words2, words3, words1)))\n"
      ],
      "metadata": {
        "colab": {
          "base_uri": "https://localhost:8080/"
        },
        "id": "J4hOodcB6sq8",
        "outputId": "c7b64650-17fe-4a3a-fd2a-1237713e776a"
      },
      "execution_count": null,
      "outputs": [
        {
          "output_type": "stream",
          "name": "stdout",
          "text": [
            "['i love you', 'you ate much', 'he works hard']\n"
          ]
        }
      ]
    },
    {
      "cell_type": "markdown",
      "source": [
        "**LAMBDA WİTHİN FİLTER() FUNCTİON**"
      ],
      "metadata": {
        "id": "32fcNCYH_Mla"
      }
    },
    {
      "cell_type": "code",
      "source": [
        "#filter(function, sequence)\n",
        "first_ten=[0,1,2,3,4,5,6,7,8,9]\n",
        "even= filter(lambda x:x%2==0, first_ten)\n",
        "print(type(even))\n",
        "\n",
        "print('Even numbers are :', list(even))\n",
        "\n"
      ],
      "metadata": {
        "colab": {
          "base_uri": "https://localhost:8080/"
        },
        "id": "a1tWqXcc8Rl7",
        "outputId": "5da9a837-da9f-4b42-c6b8-848e4f3c4f50"
      },
      "execution_count": null,
      "outputs": [
        {
          "output_type": "stream",
          "name": "stdout",
          "text": [
            "<class 'filter'>\n",
            "Even numbers are : [0, 2, 4, 6, 8]\n"
          ]
        }
      ]
    },
    {
      "cell_type": "code",
      "source": [
        "filter() #2 tane argüman alması gerekiyor."
      ],
      "metadata": {
        "id": "giVeEEbfBI7L"
      },
      "execution_count": null,
      "outputs": []
    },
    {
      "cell_type": "markdown",
      "source": [
        "**TASK**"
      ],
      "metadata": {
        "id": "b-U0hj4oC-Zl"
      }
    },
    {
      "cell_type": "code",
      "source": [
        "words=[\"apple\", \"swim\", \"clock\", \"me\", \"kiwi\", \"banana\"]\n",
        "print(list(filter(lambda x:len(x)<5, words)))\n"
      ],
      "metadata": {
        "colab": {
          "base_uri": "https://localhost:8080/"
        },
        "id": "kt_pDXAGBOyI",
        "outputId": "e7e194dd-41b9-4f64-d563-c8beea598f67"
      },
      "execution_count": null,
      "outputs": [
        {
          "output_type": "stream",
          "name": "stdout",
          "text": [
            "['swim', 'me', 'kiwi']\n"
          ]
        }
      ]
    },
    {
      "cell_type": "code",
      "source": [
        "letter1=\"a b c\".split()\n",
        "letter2=\"x y z\".split()"
      ],
      "metadata": {
        "id": "0WoRl8-jEKP7"
      },
      "execution_count": null,
      "outputs": []
    },
    {
      "cell_type": "code",
      "source": [
        "letter1"
      ],
      "metadata": {
        "colab": {
          "base_uri": "https://localhost:8080/"
        },
        "id": "sEB10oaSH5ZA",
        "outputId": "49e2540d-6366-4e2f-f6c7-6477402a9c19"
      },
      "execution_count": null,
      "outputs": [
        {
          "output_type": "execute_result",
          "data": {
            "text/plain": [
              "['a', 'b', 'c']"
            ]
          },
          "metadata": {},
          "execution_count": 50
        }
      ]
    },
    {
      "cell_type": "code",
      "source": [
        "letter2"
      ],
      "metadata": {
        "colab": {
          "base_uri": "https://localhost:8080/"
        },
        "id": "5YAnYaooH79m",
        "outputId": "e0545832-13d2-4ef5-eaf0-4c161dd4e965"
      },
      "execution_count": null,
      "outputs": [
        {
          "output_type": "execute_result",
          "data": {
            "text/plain": [
              "['x', 'y', 'z']"
            ]
          },
          "metadata": {},
          "execution_count": 51
        }
      ]
    },
    {
      "cell_type": "code",
      "source": [
        "list(map((lambda x,y:(x,y)), letter1,letter2))"
      ],
      "metadata": {
        "colab": {
          "base_uri": "https://localhost:8080/"
        },
        "id": "AlA7ae22H84A",
        "outputId": "a3c414c1-f365-4e82-cb7c-8c1d9c164572"
      },
      "execution_count": null,
      "outputs": [
        {
          "output_type": "execute_result",
          "data": {
            "text/plain": [
              "[('a', 'x'), ('b', 'y'), ('c', 'z')]"
            ]
          },
          "metadata": {},
          "execution_count": 54
        }
      ]
    },
    {
      "cell_type": "code",
      "source": [
        "list(zip(letter1, letter2))"
      ],
      "metadata": {
        "colab": {
          "base_uri": "https://localhost:8080/"
        },
        "id": "v8KGIHAuIkEz",
        "outputId": "cc2eeaeb-f688-4fb7-f120-a93b0e6e926f"
      },
      "execution_count": null,
      "outputs": [
        {
          "output_type": "execute_result",
          "data": {
            "text/plain": [
              "[('a', 'x'), ('b', 'y'), ('c', 'z')]"
            ]
          },
          "metadata": {},
          "execution_count": 55
        }
      ]
    },
    {
      "cell_type": "code",
      "source": [
        "map(zip, letter1,letter2) #object üretir."
      ],
      "metadata": {
        "colab": {
          "base_uri": "https://localhost:8080/"
        },
        "id": "V9X3pR5PI1Vb",
        "outputId": "fd0bd537-ef34-4f77-ae42-dc28d65af4de"
      },
      "execution_count": null,
      "outputs": [
        {
          "output_type": "execute_result",
          "data": {
            "text/plain": [
              "<map at 0x7fbaa5427e50>"
            ]
          },
          "metadata": {},
          "execution_count": 56
        }
      ]
    },
    {
      "cell_type": "code",
      "source": [
        "birleştir= map(zip, letter1,letter2)\n",
        "list(birleştir)"
      ],
      "metadata": {
        "colab": {
          "base_uri": "https://localhost:8080/"
        },
        "id": "yrD0pbZwJMmd",
        "outputId": "6c2626f0-0422-42a7-95d7-5bde3cbd1ec0"
      },
      "execution_count": null,
      "outputs": [
        {
          "output_type": "execute_result",
          "data": {
            "text/plain": [
              "[<zip at 0x7fbaa5350b90>, <zip at 0x7fbaa53503c0>, <zip at 0x7fbaa5350190>]"
            ]
          },
          "metadata": {},
          "execution_count": 57
        }
      ]
    },
    {
      "cell_type": "code",
      "source": [
        "birleştir= map(zip, letter1,letter2)\n",
        "for i in birleştir:\n",
        "  for j in i:\n",
        "    print(j)"
      ],
      "metadata": {
        "colab": {
          "base_uri": "https://localhost:8080/"
        },
        "id": "pZYvn30SJiv4",
        "outputId": "36a6550e-b425-4115-c5cb-dfbe892e85eb"
      },
      "execution_count": null,
      "outputs": [
        {
          "output_type": "stream",
          "name": "stdout",
          "text": [
            "('a', 'x')\n",
            "('b', 'y')\n",
            "('c', 'z')\n"
          ]
        }
      ]
    },
    {
      "cell_type": "code",
      "source": [
        "list(zip(letter1[0], letter2[0]))"
      ],
      "metadata": {
        "colab": {
          "base_uri": "https://localhost:8080/"
        },
        "id": "SQNagbjFKUdS",
        "outputId": "49ed19f8-5c87-401f-817a-d69b0e88bfb4"
      },
      "execution_count": null,
      "outputs": [
        {
          "output_type": "execute_result",
          "data": {
            "text/plain": [
              "[('a', 'x')]"
            ]
          },
          "metadata": {},
          "execution_count": 59
        }
      ]
    },
    {
      "cell_type": "code",
      "source": [
        "yapıştır = zip(letter1, letter2)\n",
        "list(yapıştır)"
      ],
      "metadata": {
        "colab": {
          "base_uri": "https://localhost:8080/"
        },
        "id": "LQLvHqpNLnu6",
        "outputId": "56c167ee-cf9c-4e92-c40b-adfdad3ef0fd"
      },
      "execution_count": null,
      "outputs": [
        {
          "output_type": "execute_result",
          "data": {
            "text/plain": [
              "[('a', 'x'), ('b', 'y'), ('c', 'z')]"
            ]
          },
          "metadata": {},
          "execution_count": 60
        }
      ]
    },
    {
      "cell_type": "markdown",
      "source": [
        "**TASK**"
      ],
      "metadata": {
        "id": "yQUYTxVoMq9x"
      }
    },
    {
      "cell_type": "code",
      "source": [
        "first_ten=['a', 'b', 'c', 'd', 'e', 'f', 'g', 'h', 'i', 'j']\n",
        "vowel_list=[\"a\",\"e\",\"i\",\"o\",\"u\"]\n",
        "fonks=lambda x: True if x in vowel_list else False \n",
        "print(list(filter(fonks, first_ten))) #filter fonk içine fonk true veya false üretmeli."
      ],
      "metadata": {
        "colab": {
          "base_uri": "https://localhost:8080/"
        },
        "id": "wEgUseJRMPxj",
        "outputId": "c62a4602-287b-4029-e92c-3db9bed1d593"
      },
      "execution_count": null,
      "outputs": [
        {
          "output_type": "stream",
          "name": "stdout",
          "text": [
            "['a', 'e', 'i']\n"
          ]
        }
      ]
    },
    {
      "cell_type": "code",
      "source": [
        "vowels2=filter(lambda x: x in vowel_list, first_ten)\n",
        "list(vowels2)"
      ],
      "metadata": {
        "colab": {
          "base_uri": "https://localhost:8080/"
        },
        "id": "ntC1F-UVR9Es",
        "outputId": "3a15995a-c184-4d5a-a589-4b6732e701df"
      },
      "execution_count": null,
      "outputs": [
        {
          "output_type": "execute_result",
          "data": {
            "text/plain": [
              "['a', 'e', 'i']"
            ]
          },
          "metadata": {},
          "execution_count": 63
        }
      ]
    },
    {
      "cell_type": "code",
      "source": [
        "for number in range(1,101):\n",
        "  print(\"FizzBuzz\" if (not number % 3 and not number % 5 ) else \"Buzz\" if not number % 5 else \"Fizz\"if not number % 3 else number )"
      ],
      "metadata": {
        "id": "G94Ceh8xOljK"
      },
      "execution_count": null,
      "outputs": []
    },
    {
      "cell_type": "markdown",
      "source": [
        "**Lambda within def: **"
      ],
      "metadata": {
        "id": "eEb43FkmUPBj"
      }
    },
    {
      "cell_type": "code",
      "source": [
        "def modular_function(n):\n",
        "    return lambda x: x ** n\n",
        "    \n",
        "power_of_2 = modular_function(2)  # first sub-function derived from def\n",
        "power_of_3 = modular_function(3)  # second sub-function derived from def\n",
        "power_of_4 = modular_function(4)  # third sub-function derived from def\n",
        "\n",
        "print(power_of_2(2))  # 2 to the power of 2\n",
        "print(power_of_3(2))  # 2 to the power of 3\n",
        "print(power_of_4(2))  # 2 to the power of 4\n",
        "\n"
      ],
      "metadata": {
        "colab": {
          "base_uri": "https://localhost:8080/"
        },
        "id": "_rxgIgecR9Hh",
        "outputId": "bf3065ce-5036-4a9f-fd28-612b2f86454e"
      },
      "execution_count": null,
      "outputs": [
        {
          "output_type": "stream",
          "name": "stdout",
          "text": [
            "4\n",
            "8\n",
            "16\n"
          ]
        }
      ]
    },
    {
      "cell_type": "code",
      "source": [
        "def modular(n):\n",
        "  return lambda x:x**n"
      ],
      "metadata": {
        "id": "GA4JNo4cR9PW"
      },
      "execution_count": null,
      "outputs": []
    },
    {
      "cell_type": "code",
      "source": [
        "küp=modular(3) #fonksiyondan fonksiyon türetti. lambda olduğu için obj oldu."
      ],
      "metadata": {
        "id": "SL7ZJk3QR9R7"
      },
      "execution_count": null,
      "outputs": []
    },
    {
      "cell_type": "code",
      "source": [
        "küp(2)"
      ],
      "metadata": {
        "colab": {
          "base_uri": "https://localhost:8080/"
        },
        "id": "7Tg0qmItR9US",
        "outputId": "c1b567c2-f327-4628-e189-af259d86e1a3"
      },
      "execution_count": null,
      "outputs": [
        {
          "output_type": "execute_result",
          "data": {
            "text/plain": [
              "8"
            ]
          },
          "metadata": {},
          "execution_count": 72
        }
      ]
    },
    {
      "cell_type": "code",
      "source": [
        "küp(4)"
      ],
      "metadata": {
        "colab": {
          "base_uri": "https://localhost:8080/"
        },
        "id": "h3sA_B3ZR9Wo",
        "outputId": "b1e8ad79-cb1a-4f30-979c-4e13cce261ae"
      },
      "execution_count": null,
      "outputs": [
        {
          "output_type": "execute_result",
          "data": {
            "text/plain": [
              "64"
            ]
          },
          "metadata": {},
          "execution_count": 73
        }
      ]
    },
    {
      "cell_type": "code",
      "source": [
        "def repeater(n):\n",
        "  return lambda x : x*n"
      ],
      "metadata": {
        "id": "99wfmvsmX1x9"
      },
      "execution_count": null,
      "outputs": []
    },
    {
      "cell_type": "code",
      "source": [
        "print(repeater(3)(\"ali\"))"
      ],
      "metadata": {
        "colab": {
          "base_uri": "https://localhost:8080/"
        },
        "id": "oeXR8wZjYLDR",
        "outputId": "fac9401b-a36e-48aa-eb19-286bef3093e2"
      },
      "execution_count": null,
      "outputs": [
        {
          "output_type": "stream",
          "name": "stdout",
          "text": [
            "alialiali\n"
          ]
        }
      ]
    },
    {
      "cell_type": "code",
      "source": [
        "def repeater(n):\n",
        "    return lambda x: x * n\n",
        "    \n",
        "repeat_2_times = repeater(2)  # repeats 2 times\n",
        "repeat_3_times = repeater(3)  # repeats 3 times\n",
        "repeat_4_times = repeater(4)  # repeats 4 times\n",
        "\n",
        "print(repeat_2_times('alex '))\n",
        "print(repeat_3_times('lara '))\n",
        "print(repeat_4_times('linda '))"
      ],
      "metadata": {
        "id": "-L525gEaYQYM"
      },
      "execution_count": null,
      "outputs": []
    },
    {
      "cell_type": "code",
      "source": [
        "def functioner(n):\n",
        "  return lambda x: x + n\n",
        "myPrint_smile=functioner(\" :)\")\n",
        "myPrint_sad=functioner(\" :(\")\n",
        "myPrint_neuturol=functioner(\" :/\")\n",
        "\n",
        "print(myPrint_smile(\"hello\"))\n",
        "print(myPrint_sad(\"hello\"))\n",
        "print(myPrint_neuturol(\"hello\"))\n"
      ],
      "metadata": {
        "colab": {
          "base_uri": "https://localhost:8080/"
        },
        "id": "rpMR-gfJZU1T",
        "outputId": "1ac8df33-e313-431c-d85a-988a8a9a6bbb"
      },
      "execution_count": null,
      "outputs": [
        {
          "output_type": "stream",
          "name": "stdout",
          "text": [
            "hello :)\n",
            "hello :(\n",
            "hello :/\n"
          ]
        }
      ]
    },
    {
      "cell_type": "code",
      "source": [
        "#hocanın çözümü;\n",
        "def functioner(emoji=\"\"):\n",
        "  return lambda message : print(message, emoji)\n",
        "print(\"ali\", \":)\")"
      ],
      "metadata": {
        "colab": {
          "base_uri": "https://localhost:8080/"
        },
        "id": "WzC6wwSmJtmW",
        "outputId": "15b880ca-418c-40ad-f544-65414f121fce"
      },
      "execution_count": null,
      "outputs": [
        {
          "output_type": "stream",
          "name": "stdout",
          "text": [
            "ali :)\n"
          ]
        }
      ]
    },
    {
      "cell_type": "code",
      "source": [
        "gülen_yüz =functioner(\":)\")\n",
        "gülen_yüz([1,2,3])"
      ],
      "metadata": {
        "colab": {
          "base_uri": "https://localhost:8080/"
        },
        "id": "mnCQhGPpKMWT",
        "outputId": "d1fae858-5923-4044-d398-c20e4f1bc1d1"
      },
      "execution_count": null,
      "outputs": [
        {
          "output_type": "stream",
          "name": "stdout",
          "text": [
            "[1, 2, 3] :)\n"
          ]
        }
      ]
    },
    {
      "cell_type": "code",
      "source": [
        "gülen_yüz(\"ali\")"
      ],
      "metadata": {
        "colab": {
          "base_uri": "https://localhost:8080/"
        },
        "id": "-PSbqDf2KdJV",
        "outputId": "5c49dc51-2c87-4d9a-be4b-26c4579a369b"
      },
      "execution_count": null,
      "outputs": [
        {
          "output_type": "stream",
          "name": "stdout",
          "text": [
            "ali :)\n"
          ]
        }
      ]
    },
    {
      "cell_type": "code",
      "source": [
        "üzgün_yüz = functioner(\":(\")"
      ],
      "metadata": {
        "id": "no2zvIkZKnK_"
      },
      "execution_count": null,
      "outputs": []
    },
    {
      "cell_type": "code",
      "source": [
        "üzgün_yüz(199)"
      ],
      "metadata": {
        "colab": {
          "base_uri": "https://localhost:8080/"
        },
        "id": "Q1YS-hTdKvRP",
        "outputId": "738c31f0-fe87-445c-c83c-8efcc2215bd1"
      },
      "execution_count": null,
      "outputs": [
        {
          "output_type": "stream",
          "name": "stdout",
          "text": [
            "199 :(\n"
          ]
        }
      ]
    },
    {
      "cell_type": "code",
      "source": [
        "(lambda x : print(x, \":(\"))(199)"
      ],
      "metadata": {
        "colab": {
          "base_uri": "https://localhost:8080/"
        },
        "id": "06HJwy0MKvOG",
        "outputId": "778d7b48-b77d-462b-8391-d40f80523d44"
      },
      "execution_count": null,
      "outputs": [
        {
          "output_type": "stream",
          "name": "stdout",
          "text": [
            "199 :(\n"
          ]
        }
      ]
    },
    {
      "cell_type": "code",
      "source": [
        "#sooooooonnnnn\n"
      ],
      "metadata": {
        "id": "tj7Yb0b4ZUik"
      },
      "execution_count": null,
      "outputs": []
    },
    {
      "cell_type": "markdown",
      "source": [
        "**Session 19**"
      ],
      "metadata": {
        "id": "z2Pw3fvaJNr6"
      }
    },
    {
      "cell_type": "code",
      "source": [
        "#kendi fonksiyonum\n",
        "def fonksiyonum(f_name):\n",
        "  return lambda x: f_name(x)"
      ],
      "metadata": {
        "id": "G47L-NaLNBoT"
      },
      "execution_count": null,
      "outputs": []
    },
    {
      "cell_type": "code",
      "source": [
        "ruveyde_max=fonksiyonum(max) #max fonksiyonum"
      ],
      "metadata": {
        "id": "FdtDCOa1O57o"
      },
      "execution_count": null,
      "outputs": []
    },
    {
      "cell_type": "code",
      "source": [
        "ruveyde_max([1,3,5,7,9])"
      ],
      "metadata": {
        "colab": {
          "base_uri": "https://localhost:8080/"
        },
        "id": "QIqd1oLgO_Bg",
        "outputId": "d1a09278-1817-489c-b008-d5ce45cc31f4"
      },
      "execution_count": null,
      "outputs": [
        {
          "output_type": "execute_result",
          "data": {
            "text/plain": [
              "9"
            ]
          },
          "metadata": {},
          "execution_count": 32
        }
      ]
    },
    {
      "cell_type": "code",
      "source": [
        "ruveyde_print=fonksiyonum(print) #yazdır fonksiyonum"
      ],
      "metadata": {
        "id": "EFLqcK9IPFG1"
      },
      "execution_count": null,
      "outputs": []
    },
    {
      "cell_type": "code",
      "source": [
        "ruveyde_print(\"Ali Rüveyde'yi seviyor.\")"
      ],
      "metadata": {
        "colab": {
          "base_uri": "https://localhost:8080/"
        },
        "id": "JPupP0unPu32",
        "outputId": "80b86a55-abe7-4cfa-b261-3ade93a7d1b7"
      },
      "execution_count": null,
      "outputs": [
        {
          "output_type": "stream",
          "name": "stdout",
          "text": [
            "Ali Rüveyde'yi seviyor.\n"
          ]
        }
      ]
    },
    {
      "cell_type": "code",
      "source": [
        "ruveyde_sorted=fonksiyonum(sorted) #sıralama fonksiyonum"
      ],
      "metadata": {
        "id": "jEOJM6kFP8Ig"
      },
      "execution_count": null,
      "outputs": []
    },
    {
      "cell_type": "code",
      "source": [
        "ruveyde_sorted([6,7,9,5])"
      ],
      "metadata": {
        "colab": {
          "base_uri": "https://localhost:8080/"
        },
        "id": "LeMxv08aQGp6",
        "outputId": "601f4bfc-6aeb-4cab-b5f1-42620f6c407a"
      },
      "execution_count": null,
      "outputs": [
        {
          "output_type": "execute_result",
          "data": {
            "text/plain": [
              "[5, 6, 7, 9]"
            ]
          },
          "metadata": {},
          "execution_count": 37
        }
      ]
    },
    {
      "cell_type": "code",
      "source": [
        "def x():\n",
        "  return 1,2,3,4"
      ],
      "metadata": {
        "id": "qbYqvHP2QSa0"
      },
      "execution_count": null,
      "outputs": []
    },
    {
      "cell_type": "code",
      "source": [
        "1,2,3,4 #tuple veriyor "
      ],
      "metadata": {
        "colab": {
          "base_uri": "https://localhost:8080/"
        },
        "id": "5pxD7jW2QVRu",
        "outputId": "6bd0302e-fa6a-42b6-944f-524e7d434e93"
      },
      "execution_count": null,
      "outputs": [
        {
          "output_type": "execute_result",
          "data": {
            "text/plain": [
              "(1, 2, 3, 4)"
            ]
          },
          "metadata": {},
          "execution_count": 40
        }
      ]
    },
    {
      "cell_type": "code",
      "source": [
        "type(x)"
      ],
      "metadata": {
        "colab": {
          "base_uri": "https://localhost:8080/"
        },
        "id": "pCutzgB5QbKJ",
        "outputId": "161dc48b-988a-472e-d166-58c19d51585a"
      },
      "execution_count": null,
      "outputs": [
        {
          "output_type": "execute_result",
          "data": {
            "text/plain": [
              "function"
            ]
          },
          "metadata": {},
          "execution_count": 41
        }
      ]
    },
    {
      "cell_type": "code",
      "source": [
        "type(x())"
      ],
      "metadata": {
        "colab": {
          "base_uri": "https://localhost:8080/"
        },
        "id": "8bqFWE4YQnio",
        "outputId": "f4349be8-8d8e-4dae-9819-537ed94268f3"
      },
      "execution_count": null,
      "outputs": [
        {
          "output_type": "execute_result",
          "data": {
            "text/plain": [
              "tuple"
            ]
          },
          "metadata": {},
          "execution_count": 42
        }
      ]
    },
    {
      "cell_type": "code",
      "source": [
        "a,b,c,d =x() #atama yaptık tuple unpacking."
      ],
      "metadata": {
        "id": "y9YwOifpQrwW"
      },
      "execution_count": null,
      "outputs": []
    },
    {
      "cell_type": "code",
      "source": [
        "a"
      ],
      "metadata": {
        "colab": {
          "base_uri": "https://localhost:8080/"
        },
        "id": "DhkNGsWOQ5h1",
        "outputId": "b2ef6e9d-6f53-408b-9066-95e7e5eb57d1"
      },
      "execution_count": null,
      "outputs": [
        {
          "output_type": "execute_result",
          "data": {
            "text/plain": [
              "1"
            ]
          },
          "metadata": {},
          "execution_count": 44
        }
      ]
    },
    {
      "cell_type": "code",
      "source": [
        "b"
      ],
      "metadata": {
        "colab": {
          "base_uri": "https://localhost:8080/"
        },
        "id": "ruyOg37GQ6qp",
        "outputId": "39d51d86-622c-4333-ce13-ff32547b7003"
      },
      "execution_count": null,
      "outputs": [
        {
          "output_type": "execute_result",
          "data": {
            "text/plain": [
              "2"
            ]
          },
          "metadata": {},
          "execution_count": 45
        }
      ]
    },
    {
      "cell_type": "code",
      "source": [
        "num=[1,1,1,4,5,5]"
      ],
      "metadata": {
        "id": "0mGnJq1ZQ7pf"
      },
      "execution_count": null,
      "outputs": []
    },
    {
      "cell_type": "code",
      "source": [
        "max(num, key=num.count)"
      ],
      "metadata": {
        "colab": {
          "base_uri": "https://localhost:8080/"
        },
        "id": "O59MNovaROg1",
        "outputId": "94b48490-b4fe-4079-e788-4d6eb7464ef1"
      },
      "execution_count": null,
      "outputs": [
        {
          "output_type": "execute_result",
          "data": {
            "text/plain": [
              "1"
            ]
          },
          "metadata": {},
          "execution_count": 47
        }
      ]
    },
    {
      "cell_type": "code",
      "source": [
        "num.count(max(num, key=num.count))"
      ],
      "metadata": {
        "id": "WcechwjCRPZ8"
      },
      "execution_count": null,
      "outputs": []
    },
    {
      "cell_type": "code",
      "source": [
        "#bir birinin aynısı olan kaç elaman var"
      ],
      "metadata": {
        "id": "tO9XHOKtSNOt"
      },
      "execution_count": null,
      "outputs": []
    },
    {
      "cell_type": "code",
      "source": [
        "def equal(a,b,c):\n",
        "  num = [a,b,c]\n",
        "  sonuc=num.count(max(num, key = num.count))\n",
        "  if sonuc>1:\n",
        "    return sonuc\n",
        "  else:\n",
        "     return 0\n"
      ],
      "metadata": {
        "id": "AIgB-u3oRPkh"
      },
      "execution_count": null,
      "outputs": []
    },
    {
      "cell_type": "code",
      "source": [
        "equal(1,5,5)"
      ],
      "metadata": {
        "colab": {
          "base_uri": "https://localhost:8080/"
        },
        "id": "SUVPKjDPRPrk",
        "outputId": "a79f4cfd-642a-4cbf-fe54-143b82962e21"
      },
      "execution_count": null,
      "outputs": [
        {
          "output_type": "execute_result",
          "data": {
            "text/plain": [
              "2"
            ]
          },
          "metadata": {},
          "execution_count": 4
        }
      ]
    },
    {
      "cell_type": "code",
      "source": [
        "def equal(*arg):\n",
        "  num=list(arg)\n",
        "  sonuc=num.count(max(num, key = num.count))\n",
        "  \n",
        "  if sonuc>1:\n",
        "    return sonuc\n",
        "  else:\n",
        "     return 0"
      ],
      "metadata": {
        "id": "kMh3acLtRPuK"
      },
      "execution_count": null,
      "outputs": []
    },
    {
      "cell_type": "code",
      "source": [
        "equal(1,1,1,1,2,3,3,3,3,3,3,4,4,5)"
      ],
      "metadata": {
        "colab": {
          "base_uri": "https://localhost:8080/"
        },
        "id": "S_Mo0qJ7XrU8",
        "outputId": "ab582c3e-0738-4bbc-ef70-ab301a86e3b3"
      },
      "execution_count": null,
      "outputs": [
        {
          "output_type": "execute_result",
          "data": {
            "text/plain": [
              "6"
            ]
          },
          "metadata": {},
          "execution_count": 6
        }
      ]
    },
    {
      "cell_type": "code",
      "source": [
        "equal_lambda = lambda x,y,z: [x,y,z].count(max([x,y,z], key = [x,y,z].count))\\\n",
        "if ([x,y,z].count(max([x,y,z], key = [x,y,z].count))) > 1 else 0  #turener yapı kurduk if cond ile aynı kod içinde yazdık."
      ],
      "metadata": {
        "id": "Uhqghyd3XyTO"
      },
      "execution_count": null,
      "outputs": []
    },
    {
      "cell_type": "code",
      "source": [
        "equal_lambda(1,4,4)"
      ],
      "metadata": {
        "colab": {
          "base_uri": "https://localhost:8080/"
        },
        "id": "kleKuSdaYLK2",
        "outputId": "0f14be36-0449-45b1-cd04-8643385ae314"
      },
      "execution_count": null,
      "outputs": [
        {
          "output_type": "execute_result",
          "data": {
            "text/plain": [
              "2"
            ]
          },
          "metadata": {},
          "execution_count": 16
        }
      ]
    },
    {
      "cell_type": "code",
      "source": [
        "equal_lambda(1,2,4) #olmadı 1 değil sıfır vermesini istersek; açıklama yukarıda"
      ],
      "metadata": {
        "colab": {
          "base_uri": "https://localhost:8080/"
        },
        "id": "KFLJM-2aYQVR",
        "outputId": "fa9e5b27-e7ef-41fa-bfa4-fc2741c3b2f1"
      },
      "execution_count": null,
      "outputs": [
        {
          "output_type": "execute_result",
          "data": {
            "text/plain": [
              "0"
            ]
          },
          "metadata": {},
          "execution_count": 19
        }
      ]
    },
    {
      "cell_type": "code",
      "source": [
        "#3 değil de belirsiz sayıda arg olsaydı ne yapardık?\n",
        "equal_lambda = lambda *arg: list(arg).count(max(list(arg), key = list(arg).count))\\\n",
        "if (list(arg).count(max(list(arg), key = list(arg).count))) > 1 else 0 "
      ],
      "metadata": {
        "id": "by78BqUeZXHJ"
      },
      "execution_count": null,
      "outputs": []
    },
    {
      "cell_type": "code",
      "source": [
        "equal_lambda(1,1,1,1,1,14,5,8,3)"
      ],
      "metadata": {
        "colab": {
          "base_uri": "https://localhost:8080/"
        },
        "id": "0AxfMeo7cY40",
        "outputId": "82a61add-fb1d-4942-f196-399101167211"
      },
      "execution_count": null,
      "outputs": [
        {
          "output_type": "execute_result",
          "data": {
            "text/plain": [
              "5"
            ]
          },
          "metadata": {},
          "execution_count": 21
        }
      ]
    },
    {
      "cell_type": "code",
      "source": [
        "equal_lambda = lambda *arg: arg.count(max(arg, key = arg.count))\\\n",
        "if (arg.count(max(arg, key = arg.count))) > 1 else 0 "
      ],
      "metadata": {
        "id": "2f6JlDI6cjg9"
      },
      "execution_count": null,
      "outputs": []
    },
    {
      "cell_type": "code",
      "source": [
        "equal_lambda(1,1,1,1,1,14,5,8,3)"
      ],
      "metadata": {
        "colab": {
          "base_uri": "https://localhost:8080/"
        },
        "id": "gwWJMdA3dKmd",
        "outputId": "4a37d3c3-c294-458a-bfe0-25a78ee9673f"
      },
      "execution_count": null,
      "outputs": [
        {
          "output_type": "execute_result",
          "data": {
            "text/plain": [
              "5"
            ]
          },
          "metadata": {},
          "execution_count": 23
        }
      ]
    },
    {
      "cell_type": "markdown",
      "source": [
        "**MODUL & packages**\n"
      ],
      "metadata": {
        "id": "pnqHiNWDo6f3"
      }
    },
    {
      "cell_type": "code",
      "source": [
        "import math #math modulünü import ettik\n",
        "def kare_al(x):\n",
        "  return x**2\n",
        "print(kare_al(3))"
      ],
      "metadata": {
        "colab": {
          "base_uri": "https://localhost:8080/"
        },
        "id": "nbyDAcl7dL7-",
        "outputId": "54ae225e-8aba-434b-f15b-b50350406901"
      },
      "execution_count": null,
      "outputs": [
        {
          "output_type": "stream",
          "name": "stdout",
          "text": [
            "9\n"
          ]
        }
      ]
    },
    {
      "cell_type": "code",
      "source": [
        "import my_module as mym #loads my_module, we give a nick name \n",
        "\n",
        "mym.my_function()  #we can use it the same way \n",
        "\n",
        "print(mym.my_variable)"
      ],
      "metadata": {
        "id": "AMIhCXgcqSB_"
      },
      "execution_count": null,
      "outputs": []
    },
    {
      "cell_type": "code",
      "source": [
        "from my_module import my_function as mfnc #we've imported my_function named mfnc\n",
        "\n",
        "mfnc() #we use the my_function's alians directly"
      ],
      "metadata": {
        "id": "D3o1I6zoqryv"
      },
      "execution_count": null,
      "outputs": []
    },
    {
      "cell_type": "code",
      "source": [
        "#Built in moduls"
      ],
      "metadata": {
        "id": "YdNT9baAqsNp"
      },
      "execution_count": null,
      "outputs": []
    },
    {
      "cell_type": "code",
      "source": [
        "import math "
      ],
      "metadata": {
        "id": "9jYGeLTbqsSj"
      },
      "execution_count": null,
      "outputs": []
    },
    {
      "cell_type": "code",
      "source": [
        "print(dir(math))"
      ],
      "metadata": {
        "colab": {
          "base_uri": "https://localhost:8080/"
        },
        "id": "9Ec7IKjkqsVa",
        "outputId": "afda3953-b912-4e04-aa2f-d67136c26a7a"
      },
      "execution_count": null,
      "outputs": [
        {
          "output_type": "stream",
          "name": "stdout",
          "text": [
            "['__doc__', '__loader__', '__name__', '__package__', '__spec__', 'acos', 'acosh', 'asin', 'asinh', 'atan', 'atan2', 'atanh', 'ceil', 'copysign', 'cos', 'cosh', 'degrees', 'e', 'erf', 'erfc', 'exp', 'expm1', 'fabs', 'factorial', 'floor', 'fmod', 'frexp', 'fsum', 'gamma', 'gcd', 'hypot', 'inf', 'isclose', 'isfinite', 'isinf', 'isnan', 'ldexp', 'lgamma', 'log', 'log10', 'log1p', 'log2', 'modf', 'nan', 'pi', 'pow', 'radians', 'remainder', 'sin', 'sinh', 'sqrt', 'tan', 'tanh', 'tau', 'trunc']\n"
          ]
        }
      ]
    },
    {
      "cell_type": "code",
      "source": [
        "from math import pi, factorial, log10  #import * deseydik bütün modulleri getirirdi.ama kullanmıyoruz."
      ],
      "metadata": {
        "id": "a9lumZzNqrvp"
      },
      "execution_count": null,
      "outputs": []
    },
    {
      "cell_type": "code",
      "source": [
        "pi"
      ],
      "metadata": {
        "colab": {
          "base_uri": "https://localhost:8080/"
        },
        "id": "6gtDTnpnu9wX",
        "outputId": "e6c76524-e836-4ea6-f493-f404c85d56e8"
      },
      "execution_count": null,
      "outputs": [
        {
          "output_type": "execute_result",
          "data": {
            "text/plain": [
              "3.141592653589793"
            ]
          },
          "metadata": {},
          "execution_count": 35
        }
      ]
    },
    {
      "cell_type": "code",
      "source": [
        "factorial(4)"
      ],
      "metadata": {
        "colab": {
          "base_uri": "https://localhost:8080/"
        },
        "id": "_KW1avNPu_hT",
        "outputId": "992295ca-7c1c-4b3a-9fe5-c5b7c8a7ae67"
      },
      "execution_count": null,
      "outputs": [
        {
          "output_type": "execute_result",
          "data": {
            "text/plain": [
              "24"
            ]
          },
          "metadata": {},
          "execution_count": 36
        }
      ]
    },
    {
      "cell_type": "code",
      "source": [
        "log10(1000)"
      ],
      "metadata": {
        "colab": {
          "base_uri": "https://localhost:8080/"
        },
        "id": "ZGfGMIQnvJ6Q",
        "outputId": "dc5f2b01-5153-491a-a8cd-3ff7f4d12a25"
      },
      "execution_count": null,
      "outputs": [
        {
          "output_type": "execute_result",
          "data": {
            "text/plain": [
              "3.0"
            ]
          },
          "metadata": {},
          "execution_count": 37
        }
      ]
    },
    {
      "cell_type": "code",
      "source": [
        "math.pi"
      ],
      "metadata": {
        "colab": {
          "base_uri": "https://localhost:8080/"
        },
        "id": "96_3aFkNvPUT",
        "outputId": "02f27e83-8eb6-4a5f-f216-75dbce9835a7"
      },
      "execution_count": null,
      "outputs": [
        {
          "output_type": "execute_result",
          "data": {
            "text/plain": [
              "3.141592653589793"
            ]
          },
          "metadata": {},
          "execution_count": 38
        }
      ]
    },
    {
      "cell_type": "code",
      "source": [
        "factorial(4)"
      ],
      "metadata": {
        "colab": {
          "base_uri": "https://localhost:8080/"
        },
        "id": "2NdNBrgqvZ2M",
        "outputId": "80aea41f-c314-4534-b7a6-afb7d11eed8d"
      },
      "execution_count": null,
      "outputs": [
        {
          "output_type": "execute_result",
          "data": {
            "text/plain": [
              "24"
            ]
          },
          "metadata": {},
          "execution_count": 39
        }
      ]
    },
    {
      "cell_type": "code",
      "source": [
        "def factorial(n):\n",
        "  count=1\n",
        "  for i in range(1,n+1):\n",
        "    count *= i \n",
        "    i+=1\n",
        "  print(count)"
      ],
      "metadata": {
        "id": "Z01AbsGDv9MT"
      },
      "execution_count": null,
      "outputs": []
    },
    {
      "cell_type": "code",
      "source": [
        "factorial(5)"
      ],
      "metadata": {
        "colab": {
          "base_uri": "https://localhost:8080/"
        },
        "id": "5hXzBVAsxlZ-",
        "outputId": "27546ea4-53e7-467a-b5b5-c55a0ca18a92"
      },
      "execution_count": null,
      "outputs": [
        {
          "output_type": "stream",
          "name": "stdout",
          "text": [
            "120\n"
          ]
        }
      ]
    },
    {
      "cell_type": "code",
      "source": [
        "factorial(1)"
      ],
      "metadata": {
        "colab": {
          "base_uri": "https://localhost:8080/"
        },
        "id": "lpAPsk1eyI3H",
        "outputId": "ce73f1b3-b6d8-4eb0-cbd2-478eea7590b1"
      },
      "execution_count": null,
      "outputs": [
        {
          "output_type": "stream",
          "name": "stdout",
          "text": [
            "1\n"
          ]
        }
      ]
    },
    {
      "cell_type": "code",
      "source": [
        "#farklı bir çözüm..\n",
        "def my_fact(n) :  \n",
        "   if n == 0 or n == 1 :  \n",
        "       return 1  \n",
        "   else:\n",
        "        return n * my_fact(n-1)\n"
      ],
      "metadata": {
        "id": "_PBBXGesywmZ"
      },
      "execution_count": null,
      "outputs": []
    },
    {
      "cell_type": "code",
      "source": [
        "##end "
      ],
      "metadata": {
        "id": "hWZ8XKKyxpQ0"
      },
      "execution_count": null,
      "outputs": []
    },
    {
      "cell_type": "markdown",
      "source": [
        "**20.session**"
      ],
      "metadata": {
        "id": "Lu4PWcc0v46u"
      }
    },
    {
      "cell_type": "code",
      "source": [
        "import string as stg #string modülünü import ettik"
      ],
      "metadata": {
        "id": "jIYDj4pAIJLo"
      },
      "execution_count": null,
      "outputs": []
    },
    {
      "cell_type": "code",
      "source": [
        "print(stg.punctuation)"
      ],
      "metadata": {
        "colab": {
          "base_uri": "https://localhost:8080/"
        },
        "id": "jw88FSlQIP6o",
        "outputId": "410f4ba3-3338-492f-f7db-094073320225"
      },
      "execution_count": null,
      "outputs": [
        {
          "output_type": "stream",
          "name": "stdout",
          "text": [
            "!\"#$%&'()*+,-./:;<=>?@[\\]^_`{|}~\n"
          ]
        }
      ]
    },
    {
      "cell_type": "code",
      "source": [
        "stg.digits"
      ],
      "metadata": {
        "colab": {
          "base_uri": "https://localhost:8080/",
          "height": 35
        },
        "id": "7yt46AwxIXjN",
        "outputId": "4cbb6ed3-cb23-425e-9c4a-cff87cf59cea"
      },
      "execution_count": null,
      "outputs": [
        {
          "output_type": "execute_result",
          "data": {
            "text/plain": [
              "'0123456789'"
            ],
            "application/vnd.google.colaboratory.intrinsic+json": {
              "type": "string"
            }
          },
          "metadata": {},
          "execution_count": 3
        }
      ]
    },
    {
      "cell_type": "code",
      "source": [
        "dir(stg)"
      ],
      "metadata": {
        "colab": {
          "base_uri": "https://localhost:8080/"
        },
        "id": "WSumNDH0IXUn",
        "outputId": "22b5e02a-8029-41e8-ae21-6ba868f71a68"
      },
      "execution_count": null,
      "outputs": [
        {
          "output_type": "execute_result",
          "data": {
            "text/plain": [
              "['Formatter',\n",
              " 'Template',\n",
              " '_ChainMap',\n",
              " '_TemplateMetaclass',\n",
              " '__all__',\n",
              " '__builtins__',\n",
              " '__cached__',\n",
              " '__doc__',\n",
              " '__file__',\n",
              " '__loader__',\n",
              " '__name__',\n",
              " '__package__',\n",
              " '__spec__',\n",
              " '_re',\n",
              " '_string',\n",
              " 'ascii_letters',\n",
              " 'ascii_lowercase',\n",
              " 'ascii_uppercase',\n",
              " 'capwords',\n",
              " 'digits',\n",
              " 'hexdigits',\n",
              " 'octdigits',\n",
              " 'printable',\n",
              " 'punctuation',\n",
              " 'whitespace']"
            ]
          },
          "metadata": {},
          "execution_count": 4
        }
      ]
    },
    {
      "cell_type": "code",
      "source": [
        "#Task \n",
        "import datetime\n",
        "print(datetime.date.today())"
      ],
      "metadata": {
        "id": "z5kkmjBOGZK2",
        "colab": {
          "base_uri": "https://localhost:8080/"
        },
        "outputId": "ba076e64-5365-45d1-9ca3-e981c473b601"
      },
      "execution_count": null,
      "outputs": [
        {
          "output_type": "stream",
          "name": "stdout",
          "text": [
            "2022-07-01\n"
          ]
        }
      ]
    },
    {
      "cell_type": "code",
      "source": [
        "print(datetime.datetime.now())"
      ],
      "metadata": {
        "colab": {
          "base_uri": "https://localhost:8080/"
        },
        "id": "oN8nItRjwJu2",
        "outputId": "e1847114-d250-4e3d-a498-15d79082461e"
      },
      "execution_count": null,
      "outputs": [
        {
          "output_type": "stream",
          "name": "stdout",
          "text": [
            "2022-07-01 17:13:53.362677\n"
          ]
        }
      ]
    },
    {
      "cell_type": "code",
      "source": [
        "from datetime import date"
      ],
      "metadata": {
        "id": "AwR_7JjUxS-4"
      },
      "execution_count": null,
      "outputs": []
    },
    {
      "cell_type": "code",
      "source": [
        "born=date(1994, 8, 19)  #born date"
      ],
      "metadata": {
        "id": "yzz_76xtxkA_"
      },
      "execution_count": null,
      "outputs": []
    },
    {
      "cell_type": "code",
      "source": [
        "now=datetime.date.today() #today"
      ],
      "metadata": {
        "id": "6Qh756w9xpNl"
      },
      "execution_count": null,
      "outputs": []
    },
    {
      "cell_type": "code",
      "source": [
        "print(now-born) #How many days i lived?"
      ],
      "metadata": {
        "colab": {
          "base_uri": "https://localhost:8080/"
        },
        "id": "9u_4H3OmxzNF",
        "outputId": "f5d62d44-ed33-46b7-ee42-fd3f73c17d67"
      },
      "execution_count": null,
      "outputs": [
        {
          "output_type": "stream",
          "name": "stdout",
          "text": [
            "10178 days, 0:00:00\n"
          ]
        }
      ]
    },
    {
      "cell_type": "code",
      "source": [
        "from datetime import date"
      ],
      "metadata": {
        "id": "7fC1Vu3CP2ds"
      },
      "execution_count": null,
      "outputs": []
    },
    {
      "cell_type": "code",
      "source": [
        "birth = date(571, 4, 22)\n",
        "death = date(632, 6, 8)"
      ],
      "metadata": {
        "id": "ZBi99o8-PgZW"
      },
      "execution_count": null,
      "outputs": []
    },
    {
      "cell_type": "code",
      "source": [
        "death - birth #it produced an object."
      ],
      "metadata": {
        "colab": {
          "base_uri": "https://localhost:8080/"
        },
        "id": "eYWxzUz-PgWw",
        "outputId": "37fb3418-f8fb-4986-98c3-5fc911e2952c"
      },
      "execution_count": null,
      "outputs": [
        {
          "output_type": "execute_result",
          "data": {
            "text/plain": [
              "datetime.timedelta(days=22327)"
            ]
          },
          "metadata": {},
          "execution_count": 8
        }
      ]
    },
    {
      "cell_type": "code",
      "source": [
        "life_day= date.toordinal(death) - date.toordinal(birth) #we used toordinal to convert object to integer."
      ],
      "metadata": {
        "id": "CSZBAS8RPgTH"
      },
      "execution_count": null,
      "outputs": []
    },
    {
      "cell_type": "code",
      "source": [
        "life_day"
      ],
      "metadata": {
        "colab": {
          "base_uri": "https://localhost:8080/"
        },
        "id": "XsmzmWTCPgJv",
        "outputId": "a16f3b4e-0270-40ca-c10b-94aafbb6a8b2"
      },
      "execution_count": null,
      "outputs": [
        {
          "output_type": "execute_result",
          "data": {
            "text/plain": [
              "22327"
            ]
          },
          "metadata": {},
          "execution_count": 11
        }
      ]
    },
    {
      "cell_type": "code",
      "source": [
        "#TASK "
      ],
      "metadata": {
        "id": "aZUV8uNBRfC5"
      },
      "execution_count": null,
      "outputs": []
    },
    {
      "cell_type": "code",
      "source": [
        "city = [\"stockholm\", \"istanbul\", \"seul\", \"cape town\"]\n",
        "\n",
        "from random import choice\n"
      ],
      "metadata": {
        "id": "5lCG3Vrox2AQ"
      },
      "execution_count": null,
      "outputs": []
    },
    {
      "cell_type": "code",
      "source": [
        "choice(city)"
      ],
      "metadata": {
        "colab": {
          "base_uri": "https://localhost:8080/",
          "height": 35
        },
        "id": "XezhVqDqzQWu",
        "outputId": "b18d3a75-61c7-4143-c068-8f92ba07a909"
      },
      "execution_count": null,
      "outputs": [
        {
          "output_type": "execute_result",
          "data": {
            "text/plain": [
              "'istanbul'"
            ],
            "application/vnd.google.colaboratory.intrinsic+json": {
              "type": "string"
            }
          },
          "metadata": {},
          "execution_count": 15
        }
      ]
    },
    {
      "cell_type": "code",
      "source": [
        "path=[\"DataScience\",\"Fullstack\",\"AWS Devops\",\"SyberSecurity\",\"Blockchoin\",\"Salecforce\"]\n",
        "choice(path)"
      ],
      "metadata": {
        "colab": {
          "base_uri": "https://localhost:8080/",
          "height": 35
        },
        "id": "8WnKpxmczYsE",
        "outputId": "c6685b46-ae22-43fb-b0e7-a807307c9c13"
      },
      "execution_count": null,
      "outputs": [
        {
          "output_type": "execute_result",
          "data": {
            "text/plain": [
              "'DataScience'"
            ],
            "application/vnd.google.colaboratory.intrinsic+json": {
              "type": "string"
            }
          },
          "metadata": {},
          "execution_count": 23
        }
      ]
    },
    {
      "cell_type": "code",
      "source": [
        "pip --version"
      ],
      "metadata": {
        "colab": {
          "base_uri": "https://localhost:8080/"
        },
        "id": "vCuixaIc0XTH",
        "outputId": "9e0045da-a648-4302-f73d-5ae567b4c786"
      },
      "execution_count": null,
      "outputs": [
        {
          "output_type": "stream",
          "name": "stdout",
          "text": [
            "pip 21.1.3 from /usr/local/lib/python3.7/dist-packages/pip (python 3.7)\n"
          ]
        }
      ]
    },
    {
      "cell_type": "code",
      "source": [
        "pip install -upgrade pip"
      ],
      "metadata": {
        "colab": {
          "base_uri": "https://localhost:8080/"
        },
        "id": "ilHgbhuz0wg6",
        "outputId": "188d92ea-a129-4bb7-c3e7-ff9acd91e710"
      },
      "execution_count": null,
      "outputs": [
        {
          "output_type": "stream",
          "name": "stdout",
          "text": [
            "\n",
            "Usage:   \n",
            "  pip3 install [options] <requirement specifier> [package-index-options] ...\n",
            "  pip3 install [options] -r <requirements file> [package-index-options] ...\n",
            "  pip3 install [options] [-e] <vcs project url> ...\n",
            "  pip3 install [options] [-e] <local project path> ...\n",
            "  pip3 install [options] <archive url/path> ...\n",
            "\n",
            "no such option: -u\n"
          ]
        }
      ]
    },
    {
      "cell_type": "code",
      "source": [
        "import numpy"
      ],
      "metadata": {
        "id": "tnix_EfW0iZ2"
      },
      "execution_count": null,
      "outputs": []
    },
    {
      "cell_type": "code",
      "source": [
        "pip show numpy"
      ],
      "metadata": {
        "colab": {
          "base_uri": "https://localhost:8080/"
        },
        "id": "G0Ypgh__11yT",
        "outputId": "577b2080-a88a-42f1-c016-0ce2e53c54a4"
      },
      "execution_count": null,
      "outputs": [
        {
          "output_type": "stream",
          "name": "stdout",
          "text": [
            "Name: numpy\n",
            "Version: 1.21.6\n",
            "Summary: NumPy is the fundamental package for array computing with Python.\n",
            "Home-page: https://www.numpy.org\n",
            "Author: Travis E. Oliphant et al.\n",
            "Author-email: None\n",
            "License: BSD\n",
            "Location: /usr/local/lib/python3.7/dist-packages\n",
            "Requires: \n",
            "Required-by: yellowbrick, xgboost, xarray, xarray-einstats, wordcloud, torchvision, torchtext, tifffile, thinc, Theano-PyMC, tensorflow, tensorflow-probability, tensorflow-hub, tensorflow-datasets, tensorboard, tables, statsmodels, spacy, sklearn-pandas, seaborn, scs, scipy, scikit-learn, scikit-image, resampy, qdldl, PyWavelets, python-louvain, pystan, pysndfile, pymc3, pyerfa, pyemd, pycocotools, pyarrow, plotnine, patsy, pandas, osqp, opt-einsum, opencv-python, opencv-contrib-python, numexpr, numba, nibabel, netCDF4, moviepy, mlxtend, mizani, missingno, matplotlib, matplotlib-venn, lightgbm, librosa, Keras-Preprocessing, kapre, jpeg4py, jaxlib, jax, imgaug, imbalanced-learn, imageio, hyperopt, holoviews, h5py, gym, gensim, folium, fix-yahoo-finance, fbprophet, fastdtw, fa2, ecos, daft, cvxpy, cufflinks, cmdstanpy, cftime, bokeh, blis, autograd, atari-py, astropy, arviz, altair, albumentations\n"
          ]
        }
      ]
    },
    {
      "cell_type": "markdown",
      "source": [
        "**Program Acts of robotics...**"
      ],
      "metadata": {
        "id": "PQPQE5ff3Cnp"
      }
    },
    {
      "cell_type": "code",
      "source": [
        "x=y=0\n",
        "for i in range(len(command)) :\n",
        "    if command[i].startswith(\"r\") : x = x + int(command[i].split()[1])\n",
        "    elif command[i].startswith(\"l\") : x = x - int(command[i].split()[1])\n",
        "    elif command[i].startswith(\"u\") : y = y + int(command[i].split()[1])\n",
        "    elif command[i].startswith(\"d\") : y = y - int(command[i].split()[1])\n",
        "        \n",
        "[x ,y]"
      ],
      "metadata": {
        "id": "7w6-BI1Y2EM8"
      },
      "execution_count": null,
      "outputs": []
    },
    {
      "cell_type": "markdown",
      "source": [
        "**TASK**"
      ],
      "metadata": {
        "id": "t0I3hAMUOQIE"
      }
    },
    {
      "cell_type": "code",
      "source": [
        "s=\"[({[()]})]\"\n",
        "\n",
        "s.replace(\"\",\" \")"
      ],
      "metadata": {
        "colab": {
          "base_uri": "https://localhost:8080/",
          "height": 35
        },
        "id": "ckUIdgj1MwtH",
        "outputId": "714f9193-2953-4023-8bb6-d87e37943769"
      },
      "execution_count": null,
      "outputs": [
        {
          "output_type": "execute_result",
          "data": {
            "text/plain": [
              "' [ ( { [ ( ) ] } ) ] '"
            ],
            "application/vnd.google.colaboratory.intrinsic+json": {
              "type": "string"
            }
          },
          "metadata": {},
          "execution_count": 24
        }
      ]
    },
    {
      "cell_type": "code",
      "source": [
        "s=\"[(){}][])}\""
      ],
      "metadata": {
        "id": "f8xY87QtO4Ab"
      },
      "execution_count": null,
      "outputs": []
    },
    {
      "cell_type": "code",
      "source": [
        "def İsValid(s):\n",
        "  while \"()\" in s or \"[]\" in s or \"{}\" in s :\n",
        "    s=s.replace(\"()\",\"\").replace(\"[]\",\"\").replace(\"{}\",\"\")\n",
        "  return s==\"\" \n"
      ],
      "metadata": {
        "id": "5EMazxEvNACp"
      },
      "execution_count": null,
      "outputs": []
    },
    {
      "cell_type": "code",
      "source": [
        "İsValid(s)"
      ],
      "metadata": {
        "colab": {
          "base_uri": "https://localhost:8080/"
        },
        "id": "Hlqpg2gnQZjw",
        "outputId": "616a013e-1b9c-4a7f-a80c-61ff17980480"
      },
      "execution_count": null,
      "outputs": [
        {
          "output_type": "execute_result",
          "data": {
            "text/plain": [
              "True"
            ]
          },
          "metadata": {},
          "execution_count": 26
        }
      ]
    },
    {
      "cell_type": "markdown",
      "source": [
        "**Building a Calculator using dict with lambda Expression**"
      ],
      "metadata": {
        "id": "P9ZUFznMRJ92"
      }
    },
    {
      "cell_type": "code",
      "source": [
        "calculator = {\"+\" : lambda x,y : x + y ,\n",
        "              \"-\" : lambda x,y : x - y,\n",
        "              \"*\" : lambda x,y : x * y,\n",
        "              \"/\" : lambda x,y : x / y}"
      ],
      "metadata": {
        "id": "fGih4X3jRdzR"
      },
      "execution_count": null,
      "outputs": []
    },
    {
      "cell_type": "code",
      "source": [
        "calculator[\"+\"](4,5)"
      ],
      "metadata": {
        "colab": {
          "base_uri": "https://localhost:8080/"
        },
        "id": "uIiX1_txS2Ye",
        "outputId": "6232e4a2-4c7e-4b9a-b8db-2871fef5c2be"
      },
      "execution_count": null,
      "outputs": [
        {
          "output_type": "execute_result",
          "data": {
            "text/plain": [
              "9"
            ]
          },
          "metadata": {},
          "execution_count": 30
        }
      ]
    },
    {
      "cell_type": "markdown",
      "source": [
        "**timeit**"
      ],
      "metadata": {
        "id": "YG0u0hoDV4uv"
      }
    },
    {
      "cell_type": "code",
      "source": [
        "from timeit import timeit "
      ],
      "metadata": {
        "id": "HL4Z22FCTgNd"
      },
      "execution_count": null,
      "outputs": []
    },
    {
      "cell_type": "code",
      "source": [
        "timeit()"
      ],
      "metadata": {
        "id": "LI13EJ0gWJzl"
      },
      "execution_count": null,
      "outputs": []
    },
    {
      "cell_type": "code",
      "source": [
        "def for_loop():\n",
        "  result=[]\n",
        "\n",
        "  for i in range(1000000):\n",
        "    result.append(i)\n",
        "  return result  "
      ],
      "metadata": {
        "id": "dwlvHkc-WTKn"
      },
      "execution_count": null,
      "outputs": []
    },
    {
      "cell_type": "code",
      "source": [
        "def list_comp():\n",
        "  return [i for i in range(1000000)]"
      ],
      "metadata": {
        "id": "35PvMtsWWkpb"
      },
      "execution_count": null,
      "outputs": []
    },
    {
      "cell_type": "code",
      "source": [
        "size = 100\n",
        "time_for  = timeit(for_loop, number = size)\n",
        "\n",
        "time_list_comp =timeit(list_comp, number = size)"
      ],
      "metadata": {
        "id": "qJS1eI3GWkm1"
      },
      "execution_count": null,
      "outputs": []
    },
    {
      "cell_type": "code",
      "source": [
        "print(f\"List comp. is {round(time_for / time_list_comp,2)} times faster than for loops \")"
      ],
      "metadata": {
        "colab": {
          "base_uri": "https://localhost:8080/"
        },
        "id": "OikNpTAFWkju",
        "outputId": "ade17e5f-7ff0-4ed1-8ea7-2fa1602882a8"
      },
      "execution_count": null,
      "outputs": [
        {
          "output_type": "stream",
          "name": "stdout",
          "text": [
            "List comp. is 1.65 times faster than for loops \n"
          ]
        }
      ]
    },
    {
      "cell_type": "markdown",
      "source": [
        "**21.Session**"
      ],
      "metadata": {
        "id": "9Hv-TrkFe3GR"
      }
    },
    {
      "cell_type": "code",
      "source": [
        "from random import choice \n",
        "path=[\"DataScience\",\"Fullstack\",\"AWS Devops\",\"SyberSecurity\",\"Blockchoin\",\"Salecforce\"]\n",
        "choice(path)"
      ],
      "metadata": {
        "id": "6rfRkXATX9Mk",
        "colab": {
          "base_uri": "https://localhost:8080/",
          "height": 35
        },
        "outputId": "f9ac72ab-9ce7-4ea9-ef52-ec6198320875"
      },
      "execution_count": null,
      "outputs": [
        {
          "output_type": "execute_result",
          "data": {
            "text/plain": [
              "'AWS Devops'"
            ],
            "application/vnd.google.colaboratory.intrinsic+json": {
              "type": "string"
            }
          },
          "metadata": {},
          "execution_count": 5
        }
      ]
    },
    {
      "cell_type": "code",
      "source": [
        "import random "
      ],
      "metadata": {
        "id": "o-NdFjouf5mb"
      },
      "execution_count": 1,
      "outputs": []
    },
    {
      "cell_type": "code",
      "source": [
        "random.randint(10,30)"
      ],
      "metadata": {
        "colab": {
          "base_uri": "https://localhost:8080/"
        },
        "id": "DZr9wgH9g1wj",
        "outputId": "dcdbb0f6-6372-419a-9a73-011a65fdc50b"
      },
      "execution_count": null,
      "outputs": [
        {
          "output_type": "execute_result",
          "data": {
            "text/plain": [
              "12"
            ]
          },
          "metadata": {},
          "execution_count": 13
        }
      ]
    },
    {
      "cell_type": "code",
      "source": [
        "chr(107)"
      ],
      "metadata": {
        "colab": {
          "base_uri": "https://localhost:8080/",
          "height": 35
        },
        "id": "1J0xgXVqhZsL",
        "outputId": "6215b074-2519-478c-c6f3-18927e2cf3a1"
      },
      "execution_count": null,
      "outputs": [
        {
          "output_type": "execute_result",
          "data": {
            "text/plain": [
              "'k'"
            ],
            "application/vnd.google.colaboratory.intrinsic+json": {
              "type": "string"
            }
          },
          "metadata": {},
          "execution_count": 14
        }
      ]
    },
    {
      "cell_type": "code",
      "source": [
        "chr(random.randint(97, 122)) #küçük harf"
      ],
      "metadata": {
        "colab": {
          "base_uri": "https://localhost:8080/",
          "height": 35
        },
        "id": "6zxy3UPZhcHu",
        "outputId": "c308373d-c0da-43e7-9874-1bb01889c007"
      },
      "execution_count": null,
      "outputs": [
        {
          "output_type": "execute_result",
          "data": {
            "text/plain": [
              "'k'"
            ],
            "application/vnd.google.colaboratory.intrinsic+json": {
              "type": "string"
            }
          },
          "metadata": {},
          "execution_count": 16
        }
      ]
    },
    {
      "cell_type": "code",
      "source": [
        "chr(random.randint(65, 90)) #büyük harf"
      ],
      "metadata": {
        "colab": {
          "base_uri": "https://localhost:8080/",
          "height": 35
        },
        "id": "HLuJhemXhiD-",
        "outputId": "b5aaf827-c5bb-405d-a20e-a77a8ab5cdae"
      },
      "execution_count": null,
      "outputs": [
        {
          "output_type": "execute_result",
          "data": {
            "text/plain": [
              "'J'"
            ],
            "application/vnd.google.colaboratory.intrinsic+json": {
              "type": "string"
            }
          },
          "metadata": {},
          "execution_count": 17
        }
      ]
    },
    {
      "cell_type": "code",
      "source": [
        "chr(random.randint(48, 57)) #sayı"
      ],
      "metadata": {
        "colab": {
          "base_uri": "https://localhost:8080/",
          "height": 35
        },
        "id": "lIt0IlBYiDcO",
        "outputId": "6b91a587-ef27-45be-913b-050deed31acb"
      },
      "execution_count": null,
      "outputs": [
        {
          "output_type": "execute_result",
          "data": {
            "text/plain": [
              "'8'"
            ],
            "application/vnd.google.colaboratory.intrinsic+json": {
              "type": "string"
            }
          },
          "metadata": {},
          "execution_count": 18
        }
      ]
    },
    {
      "cell_type": "code",
      "source": [
        "chr(random.randint(33, 47)) #özel karaketr1"
      ],
      "metadata": {
        "colab": {
          "base_uri": "https://localhost:8080/",
          "height": 35
        },
        "id": "BiiAVLSqiOet",
        "outputId": "6946835c-b191-4d80-ceae-d38ea2398e5f"
      },
      "execution_count": null,
      "outputs": [
        {
          "output_type": "execute_result",
          "data": {
            "text/plain": [
              "\"'\""
            ],
            "application/vnd.google.colaboratory.intrinsic+json": {
              "type": "string"
            }
          },
          "metadata": {},
          "execution_count": 19
        }
      ]
    },
    {
      "cell_type": "code",
      "source": [
        "chr(random.randint(58, 64)) #özel karakter 2"
      ],
      "metadata": {
        "colab": {
          "base_uri": "https://localhost:8080/",
          "height": 35
        },
        "id": "RYY1_l0QiTWJ",
        "outputId": "f284d665-4e6a-4a62-a600-6b61e8674b82"
      },
      "execution_count": null,
      "outputs": [
        {
          "output_type": "execute_result",
          "data": {
            "text/plain": [
              "'='"
            ],
            "application/vnd.google.colaboratory.intrinsic+json": {
              "type": "string"
            }
          },
          "metadata": {},
          "execution_count": 20
        }
      ]
    },
    {
      "cell_type": "code",
      "source": [
        "#şifre: 3 büyük harf , 3 küçük harf , 3 sayı, 3 özel karakter "
      ],
      "metadata": {
        "id": "eb79GTiAiW88"
      },
      "execution_count": null,
      "outputs": []
    },
    {
      "cell_type": "code",
      "source": [
        "uppers = [chr(random.randint(65, 90)) for i in range(3)]\n",
        "uppers"
      ],
      "metadata": {
        "colab": {
          "base_uri": "https://localhost:8080/"
        },
        "id": "yulPYXD4ixzQ",
        "outputId": "04e3cfd0-4fd5-4322-c64b-ccf6b5a7a7fb"
      },
      "execution_count": null,
      "outputs": [
        {
          "output_type": "execute_result",
          "data": {
            "text/plain": [
              "['Z', 'E', 'S']"
            ]
          },
          "metadata": {},
          "execution_count": 22
        }
      ]
    },
    {
      "cell_type": "code",
      "source": [
        "lowers = [chr(random.randint(97, 122)) for i in range(3)]\n",
        "lowers"
      ],
      "metadata": {
        "colab": {
          "base_uri": "https://localhost:8080/"
        },
        "id": "YABpR_ykjZlo",
        "outputId": "259c45b8-f6d5-4629-811e-aa718fb1709a"
      },
      "execution_count": null,
      "outputs": [
        {
          "output_type": "execute_result",
          "data": {
            "text/plain": [
              "['x', 'l', 'u']"
            ]
          },
          "metadata": {},
          "execution_count": 24
        }
      ]
    },
    {
      "cell_type": "code",
      "source": [
        "numbers = [chr(random.randint(48, 57)) for i in range(3)]\n",
        "numbers"
      ],
      "metadata": {
        "colab": {
          "base_uri": "https://localhost:8080/"
        },
        "id": "Rpapm5tljoJI",
        "outputId": "9275dc40-dd20-4a91-863c-886a21d84adb"
      },
      "execution_count": null,
      "outputs": [
        {
          "output_type": "execute_result",
          "data": {
            "text/plain": [
              "['8', '5', '1']"
            ]
          },
          "metadata": {},
          "execution_count": 26
        }
      ]
    },
    {
      "cell_type": "code",
      "source": [
        "chars =  chr(random.randint(33, 47)) + chr(random.randint(58, 64))\n",
        "chars"
      ],
      "metadata": {
        "colab": {
          "base_uri": "https://localhost:8080/",
          "height": 35
        },
        "id": "QMlnXvjej2Z_",
        "outputId": "0cd4bf85-d1b6-485e-8eb5-c7a554fa8531"
      },
      "execution_count": null,
      "outputs": [
        {
          "output_type": "execute_result",
          "data": {
            "text/plain": [
              "'!<'"
            ],
            "application/vnd.google.colaboratory.intrinsic+json": {
              "type": "string"
            }
          },
          "metadata": {},
          "execution_count": 28
        }
      ]
    },
    {
      "cell_type": "code",
      "source": [
        "passw = \"\".join(uppers) + \"\".join(lowers) + \"\".join(numbers) + chars \n",
        "passw"
      ],
      "metadata": {
        "colab": {
          "base_uri": "https://localhost:8080/",
          "height": 35
        },
        "id": "jcTjjrthkCy9",
        "outputId": "4d57ac47-f40a-44e7-b782-d7ae32d20253"
      },
      "execution_count": null,
      "outputs": [
        {
          "output_type": "execute_result",
          "data": {
            "text/plain": [
              "'ZESxlu851!<'"
            ],
            "application/vnd.google.colaboratory.intrinsic+json": {
              "type": "string"
            }
          },
          "metadata": {},
          "execution_count": 29
        }
      ]
    },
    {
      "cell_type": "code",
      "source": [
        "random.shuffle() #listenin elemanlarını karıştırıp bir liste olarak veriyor."
      ],
      "metadata": {
        "id": "xJB7EGCOlFHO"
      },
      "execution_count": null,
      "outputs": []
    },
    {
      "cell_type": "code",
      "source": [
        "pass_list= list(passw)\n",
        "pass_list"
      ],
      "metadata": {
        "colab": {
          "base_uri": "https://localhost:8080/"
        },
        "id": "NJA-2O0dlai_",
        "outputId": "09966271-5e3b-4fd0-802c-93cab49f3293"
      },
      "execution_count": null,
      "outputs": [
        {
          "output_type": "execute_result",
          "data": {
            "text/plain": [
              "['Z', 'E', 'S', 'x', 'l', 'u', '8', '5', '1', '!', '<']"
            ]
          },
          "metadata": {},
          "execution_count": 32
        }
      ]
    },
    {
      "cell_type": "code",
      "source": [
        "random.shuffle(pass_list)\n",
        "pass_list"
      ],
      "metadata": {
        "colab": {
          "base_uri": "https://localhost:8080/"
        },
        "id": "3E5EpI4tlhRx",
        "outputId": "3ddac13e-252a-44f6-c2ef-7fc8f0abbd94"
      },
      "execution_count": null,
      "outputs": [
        {
          "output_type": "execute_result",
          "data": {
            "text/plain": [
              "['x', '8', 'l', '<', 'Z', 'E', 'S', '5', '!', '1', 'u']"
            ]
          },
          "metadata": {},
          "execution_count": 34
        }
      ]
    },
    {
      "cell_type": "code",
      "source": [
        "\"\".join(pass_list) #join methodu bakkk !"
      ],
      "metadata": {
        "colab": {
          "base_uri": "https://localhost:8080/",
          "height": 35
        },
        "id": "rg3nCylQly2I",
        "outputId": "421d8795-6f8f-4a56-da37-84e2b6677309"
      },
      "execution_count": null,
      "outputs": [
        {
          "output_type": "execute_result",
          "data": {
            "text/plain": [
              "'x8l<ZES5!1u'"
            ],
            "application/vnd.google.colaboratory.intrinsic+json": {
              "type": "string"
            }
          },
          "metadata": {},
          "execution_count": 36
        }
      ]
    },
    {
      "cell_type": "code",
      "source": [
        "def mix_pass(password):\n",
        "  templist= list(password)\n",
        "  random.shuffle(templist)\n",
        "  return \"\".join(templist)\n"
      ],
      "metadata": {
        "id": "6wK8IhpDl8e1"
      },
      "execution_count": null,
      "outputs": []
    },
    {
      "cell_type": "code",
      "source": [
        "print(mix_pass(passw))"
      ],
      "metadata": {
        "colab": {
          "base_uri": "https://localhost:8080/"
        },
        "id": "jbEpD7DDmuQs",
        "outputId": "faee8c0a-bc5f-4dc5-bd44-8c394a89b658"
      },
      "execution_count": null,
      "outputs": [
        {
          "output_type": "stream",
          "name": "stdout",
          "text": [
            "SEZ5<u8l!1x\n"
          ]
        }
      ]
    },
    {
      "cell_type": "code",
      "source": [
        "'''Syntax Erros ile Exception Error Farkı;\n",
        "syntax hatası varsa ---> compiling aşamasına geçemez, hiçbir satır çalışmaz.\n",
        "exception hatası varsa ---> interpretation (yani exception olan satıra kadar çalışır hata olan satırda durur)\n",
        "mesela bir str ile int toplamaya çalışmak;\n",
        "bu hataya kadar üst satırlar hatasız ise çalışır bu satırda hata verir ve çalışmaz.\n",
        "hata satırından sonra doğru olan satırlarda çalışmaz.\n",
        "COMMON EXCEPTİONS; 3 tanedir.\n",
        "Value Error\n",
        "Name Error\n",
        "Type Error'''"
      ],
      "metadata": {
        "id": "npwzqoXym_Xr"
      },
      "execution_count": null,
      "outputs": []
    },
    {
      "cell_type": "code",
      "source": [
        "while True:\n",
        "    no_one = int(input(\"The first number please : \"))\n",
        "    no_two = int(input(\"The second number please : \"))\n",
        "    division = no_one / no_two\n",
        "    print(\"The result of the division is : \", division)\n",
        "    break"
      ],
      "metadata": {
        "colab": {
          "base_uri": "https://localhost:8080/",
          "height": 276
        },
        "id": "xYv9cdm2xrK0",
        "outputId": "a9095210-2234-4333-cfff-1dd870644258"
      },
      "execution_count": null,
      "outputs": [
        {
          "name": "stdout",
          "output_type": "stream",
          "text": [
            "The first number please : 8\n",
            "The second number please : 0\n"
          ]
        },
        {
          "output_type": "error",
          "ename": "ZeroDivisionError",
          "evalue": "ignored",
          "traceback": [
            "\u001b[0;31m---------------------------------------------------------------------------\u001b[0m",
            "\u001b[0;31mZeroDivisionError\u001b[0m                         Traceback (most recent call last)",
            "\u001b[0;32m<ipython-input-39-71c23077dd83>\u001b[0m in \u001b[0;36m<module>\u001b[0;34m()\u001b[0m\n\u001b[1;32m      2\u001b[0m     \u001b[0mno_one\u001b[0m \u001b[0;34m=\u001b[0m \u001b[0mint\u001b[0m\u001b[0;34m(\u001b[0m\u001b[0minput\u001b[0m\u001b[0;34m(\u001b[0m\u001b[0;34m\"The first number please : \"\u001b[0m\u001b[0;34m)\u001b[0m\u001b[0;34m)\u001b[0m\u001b[0;34m\u001b[0m\u001b[0;34m\u001b[0m\u001b[0m\n\u001b[1;32m      3\u001b[0m     \u001b[0mno_two\u001b[0m \u001b[0;34m=\u001b[0m \u001b[0mint\u001b[0m\u001b[0;34m(\u001b[0m\u001b[0minput\u001b[0m\u001b[0;34m(\u001b[0m\u001b[0;34m\"The second number please : \"\u001b[0m\u001b[0;34m)\u001b[0m\u001b[0;34m)\u001b[0m\u001b[0;34m\u001b[0m\u001b[0;34m\u001b[0m\u001b[0m\n\u001b[0;32m----> 4\u001b[0;31m     \u001b[0mdivision\u001b[0m \u001b[0;34m=\u001b[0m \u001b[0mno_one\u001b[0m \u001b[0;34m/\u001b[0m \u001b[0mno_two\u001b[0m\u001b[0;34m\u001b[0m\u001b[0;34m\u001b[0m\u001b[0m\n\u001b[0m\u001b[1;32m      5\u001b[0m     \u001b[0mprint\u001b[0m\u001b[0;34m(\u001b[0m\u001b[0;34m\"The result of the division is : \"\u001b[0m\u001b[0;34m,\u001b[0m \u001b[0mdivision\u001b[0m\u001b[0;34m)\u001b[0m\u001b[0;34m\u001b[0m\u001b[0;34m\u001b[0m\u001b[0m\n\u001b[1;32m      6\u001b[0m     \u001b[0;32mbreak\u001b[0m\u001b[0;34m\u001b[0m\u001b[0;34m\u001b[0m\u001b[0m\n",
            "\u001b[0;31mZeroDivisionError\u001b[0m: division by zero"
          ]
        }
      ]
    },
    {
      "cell_type": "code",
      "source": [
        "while True:\n",
        "    no_one = int(input(\"The first number please : \"))\n",
        "    no_two = int(input(\"The second number please : \"))\n",
        "\n",
        "    try :\n",
        "      division = no_one / no_two\n",
        "      print(\"The result of the division is : \", division)\n",
        "      break\n",
        "    except :\n",
        "      print(\"something went wrong.. Try again\")\n",
        "      break\n",
        "\n"
      ],
      "metadata": {
        "colab": {
          "base_uri": "https://localhost:8080/"
        },
        "id": "3yucMu5Uxr8R",
        "outputId": "27a33550-becc-4858-bb03-0c13ededd6c2"
      },
      "execution_count": null,
      "outputs": [
        {
          "output_type": "stream",
          "name": "stdout",
          "text": [
            "The first number please : 8\n",
            "The second number please : 0\n",
            "something went wrong.. Try again\n"
          ]
        }
      ]
    },
    {
      "cell_type": "code",
      "source": [
        "'''try, bir kod bloğunu hatalara karşı denetler.\n",
        "except, kod bloğundaki bir hata durumunda işlemler yapmayı sağlar.\n",
        "finally, try-except sonucu fark etmeksizin işlem hata tespit işlemi sonrasına çalıştırılan kod bloğudur. '''"
      ],
      "metadata": {
        "id": "ZiT5Ppvaxr6K"
      },
      "execution_count": null,
      "outputs": []
    },
    {
      "cell_type": "code",
      "source": [
        "try : \n",
        "  x = 2/0\n",
        "  print(\"bende sıkıntı yok çalıştım.\")\n",
        "except :\n",
        "  print(\"birşeyeler ters gitti.\")"
      ],
      "metadata": {
        "colab": {
          "base_uri": "https://localhost:8080/"
        },
        "id": "iC2zvUm9xr2j",
        "outputId": "c9d0cc58-e144-4655-f0f4-b41a38b89ab5"
      },
      "execution_count": null,
      "outputs": [
        {
          "output_type": "stream",
          "name": "stdout",
          "text": [
            "birşeyeler ters gitti.\n"
          ]
        }
      ]
    },
    {
      "cell_type": "code",
      "source": [
        "try : \n",
        "  print(\"ben birinci kod satırıyım.\")\n",
        "  x = 2/0\n",
        "  print(\"bende sıkıntı yok çalıştım.\")\n",
        "except :\n",
        "  print(\"birşeyeler ters gitti.\")"
      ],
      "metadata": {
        "colab": {
          "base_uri": "https://localhost:8080/"
        },
        "id": "hPLBU42QxrzK",
        "outputId": "7c764108-033a-43fd-d3c0-430121ee4d1e"
      },
      "execution_count": null,
      "outputs": [
        {
          "output_type": "stream",
          "name": "stdout",
          "text": [
            "ben birinci kod satırıyım.\n",
            "birşeyeler ters gitti.\n"
          ]
        }
      ]
    }
  ]
}