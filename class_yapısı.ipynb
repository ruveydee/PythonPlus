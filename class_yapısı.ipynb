{
  "cells": [
    {
      "cell_type": "markdown",
      "metadata": {
        "id": "view-in-github",
        "colab_type": "text"
      },
      "source": [
        "<a href=\"https://colab.research.google.com/github/ruveydee/Python_Plus/blob/main/class_yap%C4%B1s%C4%B1.ipynb\" target=\"_parent\"><img src=\"https://colab.research.google.com/assets/colab-badge.svg\" alt=\"Open In Colab\"/></a>"
      ]
    },
    {
      "cell_type": "code",
      "execution_count": 1,
      "metadata": {
        "id": "vjHjA5QeMbjJ"
      },
      "outputs": [],
      "source": [
        "# inheritance = kalıtım,miras demek... Öğrenci öğretmen örneği gibi bir okulda iki tip te vardır...\n",
        "# class yapısının tümü aslında kapsüllemek = Encapsültation...\n",
        "# Abstraction = özet , genel tanım\n"
      ]
    },
    {
      "cell_type": "code",
      "execution_count": 2,
      "metadata": {
        "id": "2VtYsSeDMbjK"
      },
      "outputs": [],
      "source": [
        "# class <Class ismi> ---class isimleri genellikle büyük hafrle başlar(zorunluk değildir)\n",
        "\n",
        "    #<class attribute> ---Class attribute, oluşturulanın aksine genel değerler içerir.\n",
        "    \n",
        "    #def __init__(self, <attr>):  -- init, instantiation yani örneklendirmenin kısaltmasıdır.\n",
        "        #self. <instance attr> = attr --- instance attributelar oluştutulan örneğe özgürdür **\n",
        "        \n",
        "    #def <method>(self, <params>):  -- metodlar class'a özgü fonksiyonlardır.\n",
        "        #...\n",
        "        #return ..."
      ]
    },
    {
      "cell_type": "code",
      "execution_count": 3,
      "metadata": {
        "id": "NLHd5ni4MbjL"
      },
      "outputs": [],
      "source": [
        "class Ucus(): #uçuş\n",
        "    havayolu = \"THY\""
      ]
    },
    {
      "cell_type": "code",
      "execution_count": 4,
      "metadata": {
        "id": "kZQEmop1MbjM"
      },
      "outputs": [],
      "source": [
        "ucus1 = Ucus()"
      ]
    },
    {
      "cell_type": "code",
      "execution_count": 5,
      "metadata": {
        "id": "IqvH36PMMbjM",
        "outputId": "7effd0c2-186f-4a97-97eb-9aa47660394f",
        "colab": {
          "base_uri": "https://localhost:8080/",
          "height": 35
        }
      },
      "outputs": [
        {
          "output_type": "execute_result",
          "data": {
            "text/plain": [
              "'THY'"
            ],
            "application/vnd.google.colaboratory.intrinsic+json": {
              "type": "string"
            }
          },
          "metadata": {},
          "execution_count": 5
        }
      ],
      "source": [
        "ucus1.havayolu"
      ]
    },
    {
      "cell_type": "code",
      "execution_count": 6,
      "metadata": {
        "id": "3OcE3IpEMbjN"
      },
      "outputs": [],
      "source": [
        "class Ucus():\n",
        "    havayolu = \"THY\"\n",
        "    \n",
        "    def __init__(self, kod, kalkis, varis, süre , kapasite, yolcu): # içinde yazılan herşey methoddur.\n",
        "        self.kod = kod\n",
        "        self.kalkis = kalkis               # bu kısım object instantiates(örnekleme) kısmı self in üzerinden anlatmak gibi.... dolaylı yoldan\n",
        "        self.varis = varis\n",
        "        self.süre = süre\n",
        "        self.kapasite = kapasite\n",
        "        self.yolcu = yolcu  \n",
        "        "
      ]
    },
    {
      "cell_type": "code",
      "execution_count": 7,
      "metadata": {
        "id": "OzKu3wvEMbjN"
      },
      "outputs": [],
      "source": [
        "Ucus2 = Ucus(\"TK100\", \"IST\", \"Ank\",60,200,22)"
      ]
    },
    {
      "cell_type": "code",
      "execution_count": 8,
      "metadata": {
        "id": "hEhbwOBtMbjN",
        "outputId": "f18224b3-4fe2-4d72-87d0-e72c6cdff10c",
        "colab": {
          "base_uri": "https://localhost:8080/",
          "height": 35
        }
      },
      "outputs": [
        {
          "output_type": "execute_result",
          "data": {
            "text/plain": [
              "'IST'"
            ],
            "application/vnd.google.colaboratory.intrinsic+json": {
              "type": "string"
            }
          },
          "metadata": {},
          "execution_count": 8
        }
      ],
      "source": [
        "Ucus2.havayolu  # hava yolu her zaman üstte tanımlandığı için THY çıkıyor\n",
        "Ucus2.kalkis  # ucus3 tanımlar isek yeni bir sefer düzenleyebiliriz...."
      ]
    },
    {
      "cell_type": "code",
      "execution_count": 9,
      "metadata": {
        "id": "36h46wJRMbjO"
      },
      "outputs": [],
      "source": [
        "class Ucus():\n",
        "    havayolu = \"THY\"\n",
        "    \n",
        "    def __init__(self, kod, kalkis, varis, süre , kapasite, yolcu):\n",
        "        self.kod = kod\n",
        "        self.kalkis = kalkis\n",
        "        self.varis = varis\n",
        "        self.süre = süre\n",
        "        self.kapasite = kapasite\n",
        "        self.yolcu = yolcu  \n",
        "        \n",
        "        \n",
        "    def anons_yap(self):\n",
        "        return \"{} sefer sayılı {}--{} ucusumuz {} dakika sürecektir\".format(\n",
        "            self.kod,\n",
        "            self.kalkis,\n",
        "            self.varis,\n",
        "            self.süre)"
      ]
    },
    {
      "cell_type": "code",
      "execution_count": 10,
      "metadata": {
        "id": "JZkbLsNyMbjO"
      },
      "outputs": [],
      "source": [
        "ucus3 = Ucus(\"Tk500\",\"Bod\",\"Ant\",39,244,12)"
      ]
    },
    {
      "cell_type": "code",
      "execution_count": 11,
      "metadata": {
        "id": "B3Fht324MbjP",
        "outputId": "0211f89f-3c11-49e5-dc75-664ee2f33abb",
        "colab": {
          "base_uri": "https://localhost:8080/",
          "height": 35
        }
      },
      "outputs": [
        {
          "output_type": "execute_result",
          "data": {
            "text/plain": [
              "'Tk500 sefer sayılı Bod--Ant ucusumuz 39 dakika sürecektir'"
            ],
            "application/vnd.google.colaboratory.intrinsic+json": {
              "type": "string"
            }
          },
          "metadata": {},
          "execution_count": 11
        }
      ],
      "source": [
        "ucus3.anons_yap()"
      ]
    },
    {
      "cell_type": "code",
      "execution_count": 12,
      "metadata": {
        "id": "hGMD7XAHMbjP"
      },
      "outputs": [],
      "source": [
        "class Ucus():\n",
        "    havayolu = \"THY\"\n",
        "    \n",
        "    def __init__(self, kod, kalkis, varis, süre , kapasite, yolcu):\n",
        "        self.kod = kod\n",
        "        self.kalkis = kalkis\n",
        "        self.varis = varis\n",
        "        self.süre = süre\n",
        "        self.kapasite = kapasite\n",
        "        self.yolcu = yolcu  \n",
        "        \n",
        "        \n",
        "    def anons_yap(self):\n",
        "        return \"{} sefer sayılı {}--{} ucusumuz {} dakika sürecektir\".format(\n",
        "            self.kod,\n",
        "            self.kalkis,\n",
        "            self.varis,\n",
        "            self.süre)\n",
        "        \n",
        "    def koltuk_sayısı_güncelle(self):\n",
        "        return self.kapasite - self.yolcu\n",
        "    \n",
        "    def bilet_satis(self, bilet_adedi=1):\n",
        "        if self.yolcu + bilet_adedi <= self.kapasite:\n",
        "            #self.yolcu = self.yolcu + bilet_adedi\n",
        "            self.yolcu += bilet_adedi\n",
        "            self.koltuk_sayısı_güncelle()\n",
        "            return \"{} adet bilet satılmıştır, kalan koltuk sayısı {} \".format(bilet_adedi,self.koltuk_sayısı_güncelle())\n",
        "        else:\n",
        "            return \"Yetersiz koltuk sayısı\"\n",
        "        \n",
        "    def bilet_iptal(self, bilet_adedi=1):\n",
        "        if self.yolcu >= bilet_adedi:\n",
        "            self.yolcu -= bilet_adedi\n",
        "            return \"{} adet bilet iptal edilmiştir, kalan koltuk sayısı {} \".format(bilet_adedi,self.koltuk_sayısı_güncelle())\n",
        "        else:\n",
        "            return \"Islem gerçekleştirilemedi . İptal edilecek kadar yolcu yok..\"  "
      ]
    },
    {
      "cell_type": "code",
      "execution_count": 13,
      "metadata": {
        "id": "3bEFq7ORMbjQ",
        "outputId": "891881f4-2d4b-4c87-cffe-08ee0f58e103",
        "colab": {
          "base_uri": "https://localhost:8080/"
        }
      },
      "outputs": [
        {
          "output_type": "execute_result",
          "data": {
            "text/plain": [
              "44"
            ]
          },
          "metadata": {},
          "execution_count": 13
        }
      ],
      "source": [
        "ucus4 = Ucus(\"Tk500\",\"Bod\",\"Ant\",39,244,200)\n",
        "ucus4.koltuk_sayısı_güncelle()"
      ]
    },
    {
      "cell_type": "code",
      "execution_count": 14,
      "metadata": {
        "id": "X9QTr6ZNMbjQ",
        "outputId": "24aa32cc-c0e8-440c-cf86-ec2fbcd6303f",
        "colab": {
          "base_uri": "https://localhost:8080/",
          "height": 35
        }
      },
      "outputs": [
        {
          "output_type": "execute_result",
          "data": {
            "text/plain": [
              "'Yetersiz koltuk sayısı'"
            ],
            "application/vnd.google.colaboratory.intrinsic+json": {
              "type": "string"
            }
          },
          "metadata": {},
          "execution_count": 14
        }
      ],
      "source": [
        "ucus4.bilet_satis(50) # her çalıştırmada fonksiyona tanımlanan değerden düşer..."
      ]
    },
    {
      "cell_type": "code",
      "execution_count": 15,
      "metadata": {
        "id": "IzEydAzOMbjQ",
        "outputId": "b2ce603e-a15d-4103-f712-01614b0d50bd",
        "colab": {
          "base_uri": "https://localhost:8080/",
          "height": 35
        }
      },
      "outputs": [
        {
          "output_type": "execute_result",
          "data": {
            "text/plain": [
              "'1 adet bilet iptal edilmiştir, kalan koltuk sayısı 45 '"
            ],
            "application/vnd.google.colaboratory.intrinsic+json": {
              "type": "string"
            }
          },
          "metadata": {},
          "execution_count": 15
        }
      ],
      "source": [
        "ucus4.bilet_iptal(1)"
      ]
    },
    {
      "cell_type": "code",
      "execution_count": 16,
      "metadata": {
        "id": "yY7nXKYQMbjQ",
        "colab": {
          "base_uri": "https://localhost:8080/"
        },
        "outputId": "e2012334-e6e4-43d7-a2c6-9d76187e8df8"
      },
      "outputs": [
        {
          "output_type": "execute_result",
          "data": {
            "text/plain": [
              "['kod',\n",
              " 'kalkis',\n",
              " 'varis',\n",
              " 'süre',\n",
              " 'kapasite',\n",
              " 'yolcu',\n",
              " '__module__',\n",
              " 'havayolu',\n",
              " '__init__',\n",
              " 'anons_yap',\n",
              " 'koltuk_sayısı_güncelle',\n",
              " 'bilet_satis',\n",
              " 'bilet_iptal',\n",
              " '__dict__',\n",
              " '__weakref__',\n",
              " '__doc__',\n",
              " '__repr__',\n",
              " '__hash__',\n",
              " '__str__',\n",
              " '__getattribute__',\n",
              " '__setattr__',\n",
              " '__delattr__',\n",
              " '__lt__',\n",
              " '__le__',\n",
              " '__eq__',\n",
              " '__ne__',\n",
              " '__gt__',\n",
              " '__ge__',\n",
              " '__new__',\n",
              " '__reduce_ex__',\n",
              " '__reduce__',\n",
              " '__subclasshook__',\n",
              " '__init_subclass__',\n",
              " '__format__',\n",
              " '__sizeof__',\n",
              " '__dir__',\n",
              " '__class__']"
            ]
          },
          "metadata": {},
          "execution_count": 16
        }
      ],
      "source": [
        "#dunder methodlar\n",
        "ucus4.__dir__()  # bütün default atanan methotları ve kendi yaptığımız methodları gösterir."
      ]
    },
    {
      "cell_type": "code",
      "execution_count": 17,
      "metadata": {
        "id": "H-tlYbAGMbjR",
        "outputId": "37ee7bd5-7625-4d75-c3fb-70d122f2901d",
        "colab": {
          "base_uri": "https://localhost:8080/"
        }
      },
      "outputs": [
        {
          "output_type": "execute_result",
          "data": {
            "text/plain": [
              "<__main__.Ucus at 0x7f2985638b10>"
            ]
          },
          "metadata": {},
          "execution_count": 17
        }
      ],
      "source": [
        "ucus4  # bunu çalıştırdığımızda alttaki bilginin çıkmasının sebebi __repr__ bu default methoddur"
      ]
    },
    {
      "cell_type": "code",
      "execution_count": 18,
      "metadata": {
        "id": "qkBIxQ2rMbjR"
      },
      "outputs": [],
      "source": [
        "class Ucus():\n",
        "    havayolu = \"THY\"\n",
        "    \n",
        "    def __init__(self, kod, kalkis, varis, süre , kapasite, yolcu):\n",
        "        self.kod = kod\n",
        "        self.kalkis = kalkis\n",
        "        self.varis = varis\n",
        "        self.süre = süre\n",
        "        self.kapasite = kapasite\n",
        "        self.yolcu = yolcu  \n",
        "        \n",
        "    def __repr__(self):\n",
        "        return \"random fackt \"\n",
        "        \n",
        "        \n",
        "    def anons_yap(self):\n",
        "        return \"{} sefer sayılı {}--{} ucusumuz {} dakika sürecektir\".format(\n",
        "            self.kod,\n",
        "            self.kalkis,\n",
        "            self.varis,\n",
        "            self.süre)\n",
        "        \n",
        "    def koltuk_sayısı_güncelle(self):\n",
        "        return self.kapasite - self.yolcu\n",
        "    \n",
        "    def bilet_satis(self, bilet_adedi=1):\n",
        "        if self.yolcu + bilet_adedi <= self.kapasite:\n",
        "            #self.yolcu = self.yolcu + bilet_adedi\n",
        "            self.yolcu += bilet_adedi\n",
        "            self.koltuk_sayısı_güncelle()\n",
        "            return \"{} adet bilet satılmıştır, kalan koltuk sayısı {} \".format(bilet_adedi,self.koltuk_sayısı_güncelle())\n",
        "        else:\n",
        "            return \"Yetersiz koltuk sayısı\"\n",
        "        \n",
        "    def bilet_iptal(self, bilet_adedi=1):\n",
        "        if self.yolcu >= bilet_adedi:\n",
        "            self.yolcu -= bilet_adedi\n",
        "            return \"{} adet bilet iptal edilmiştir, kalan koltuk sayısı {} \".format(bilet_adedi,self.koltuk_sayısı_güncelle())\n",
        "        else:\n",
        "            return \"Islem gerçekleştirilemedi . İptal edilecek kadar yolcu yok..\"  "
      ]
    },
    {
      "cell_type": "code",
      "execution_count": 19,
      "metadata": {
        "id": "F3j76T9DMbjR"
      },
      "outputs": [],
      "source": [
        "ucus4 = Ucus(\"Tk500\",\"Bod\",\"Ant\",39,244,200)"
      ]
    },
    {
      "cell_type": "code",
      "execution_count": 20,
      "metadata": {
        "id": "b9ibGVj1MbjR",
        "outputId": "10ad5bea-8700-4aea-d46e-27ae4a0597e8",
        "colab": {
          "base_uri": "https://localhost:8080/"
        }
      },
      "outputs": [
        {
          "output_type": "execute_result",
          "data": {
            "text/plain": [
              "random fackt "
            ]
          },
          "metadata": {},
          "execution_count": 20
        }
      ],
      "source": [
        "ucus4"
      ]
    },
    {
      "cell_type": "code",
      "execution_count": 21,
      "metadata": {
        "id": "uLgqu50pMbjS"
      },
      "outputs": [],
      "source": [
        "class Seyahat():  #süperclass\n",
        "    def __init__(self, kalkis, varis):\n",
        "        self.kalkis = kalkis\n",
        "        self.varis = varis   \n",
        "        \n",
        "    def anons(self):\n",
        "        return \"{}--{} yolculuğumuza hoşgeldiniz \".format(self.kalkis, self.varis)\n",
        "class Otobus(Seyahat):  #alt class\n",
        "    def __init__(self, mola_durakları, kalkis, varis):\n",
        "        Seyahat.__init__(self, kalkis, varis)\n",
        "        self.mola_durakları = mola_durakları"
      ]
    },
    {
      "cell_type": "code",
      "execution_count": 22,
      "metadata": {
        "id": "IbCJ93qXMbjS",
        "outputId": "07290691-1ce8-433c-95c5-68471cb0ddb0",
        "colab": {
          "base_uri": "https://localhost:8080/",
          "height": 35
        }
      },
      "outputs": [
        {
          "output_type": "execute_result",
          "data": {
            "text/plain": [
              "'ANT--BOD yolculuğumuza hoşgeldiniz '"
            ],
            "application/vnd.google.colaboratory.intrinsic+json": {
              "type": "string"
            }
          },
          "metadata": {},
          "execution_count": 22
        }
      ],
      "source": [
        "seyahat1 = Seyahat(\"ANT\",\"BOD\")\n",
        "seyahat1.anons()"
      ]
    },
    {
      "cell_type": "code",
      "execution_count": 24,
      "metadata": {
        "id": "ffBvjb9pMbjT"
      },
      "outputs": [],
      "source": [
        "oto1 = Otobus([\"FET\",\"ALAN\"],\"ANT\",\"BOD\") # oto 1 için değiştirirken bu şekilde yazmak gerek...."
      ]
    },
    {
      "cell_type": "code",
      "execution_count": 25,
      "metadata": {
        "id": "kIbRVP8fMbjS",
        "outputId": "35fd55cb-99ac-4870-e87c-bad2c4ae2237",
        "colab": {
          "base_uri": "https://localhost:8080/"
        }
      },
      "outputs": [
        {
          "output_type": "execute_result",
          "data": {
            "text/plain": [
              "['FET', 'ALAN']"
            ]
          },
          "metadata": {},
          "execution_count": 25
        }
      ],
      "source": [
        "oto1.mola_durakları"
      ]
    },
    {
      "cell_type": "code",
      "execution_count": 26,
      "metadata": {
        "id": "eu9du6GzMbjT",
        "outputId": "456062fd-0dd2-4f47-b373-8c6813a19a8d",
        "colab": {
          "base_uri": "https://localhost:8080/",
          "height": 35
        }
      },
      "outputs": [
        {
          "output_type": "execute_result",
          "data": {
            "text/plain": [
              "'ANT'"
            ],
            "application/vnd.google.colaboratory.intrinsic+json": {
              "type": "string"
            }
          },
          "metadata": {},
          "execution_count": 26
        }
      ],
      "source": [
        "oto1.kalkis"
      ]
    },
    {
      "cell_type": "code",
      "execution_count": 27,
      "metadata": {
        "id": "AsGimxUZMbjT",
        "outputId": "a40cb95d-1165-4851-dcc9-4e67c3542dd0",
        "colab": {
          "base_uri": "https://localhost:8080/",
          "height": 35
        }
      },
      "outputs": [
        {
          "output_type": "execute_result",
          "data": {
            "text/plain": [
              "'ANT--BOD yolculuğumuza hoşgeldiniz '"
            ],
            "application/vnd.google.colaboratory.intrinsic+json": {
              "type": "string"
            }
          },
          "metadata": {},
          "execution_count": 27
        }
      ],
      "source": [
        "oto1.anons()"
      ]
    }
  ],
  "metadata": {
    "kernelspec": {
      "display_name": "Python 3.10.5 64-bit",
      "language": "python",
      "name": "python3"
    },
    "language_info": {
      "codemirror_mode": {
        "name": "ipython",
        "version": 3
      },
      "file_extension": ".py",
      "mimetype": "text/x-python",
      "name": "python",
      "nbconvert_exporter": "python",
      "pygments_lexer": "ipython3",
      "version": "3.10.5"
    },
    "orig_nbformat": 4,
    "vscode": {
      "interpreter": {
        "hash": "39344b1b46d83f8c777437ec0c18c469cc5a98931f86e6b3d5b74c23738b46c6"
      }
    },
    "colab": {
      "name": "class_yapısı.ipynb",
      "provenance": [],
      "collapsed_sections": [],
      "include_colab_link": true
    }
  },
  "nbformat": 4,
  "nbformat_minor": 0
}